{
 "cells": [
  {
   "cell_type": "code",
   "execution_count": 200,
   "id": "b30bb59b",
   "metadata": {},
   "outputs": [],
   "source": [
    "import pandas as pd"
   ]
  },
  {
   "cell_type": "markdown",
   "id": "f127a1ac",
   "metadata": {},
   "source": [
    "# 테이블"
   ]
  },
  {
   "cell_type": "code",
   "execution_count": 201,
   "id": "77e03df1",
   "metadata": {},
   "outputs": [
    {
     "data": {
      "text/html": [
       "<div>\n",
       "<style scoped>\n",
       "    .dataframe tbody tr th:only-of-type {\n",
       "        vertical-align: middle;\n",
       "    }\n",
       "\n",
       "    .dataframe tbody tr th {\n",
       "        vertical-align: top;\n",
       "    }\n",
       "\n",
       "    .dataframe thead th {\n",
       "        text-align: right;\n",
       "    }\n",
       "</style>\n",
       "<table border=\"1\" class=\"dataframe\">\n",
       "  <thead>\n",
       "    <tr style=\"text-align: right;\">\n",
       "      <th></th>\n",
       "      <th>customerid</th>\n",
       "      <th>mx</th>\n",
       "      <th>Recency</th>\n",
       "      <th>Frequency</th>\n",
       "      <th>Monetary</th>\n",
       "      <th>ATV</th>\n",
       "      <th>churn_yn</th>\n",
       "      <th>labels</th>\n",
       "    </tr>\n",
       "  </thead>\n",
       "  <tbody>\n",
       "    <tr>\n",
       "      <th>0</th>\n",
       "      <td>16282.0</td>\n",
       "      <td>2011-01-04 11:42</td>\n",
       "      <td>339</td>\n",
       "      <td>1</td>\n",
       "      <td>168.30</td>\n",
       "      <td>15.300000</td>\n",
       "      <td>1</td>\n",
       "      <td>2</td>\n",
       "    </tr>\n",
       "    <tr>\n",
       "      <th>1</th>\n",
       "      <td>15266.0</td>\n",
       "      <td>2011-01-05 13:40</td>\n",
       "      <td>338</td>\n",
       "      <td>1</td>\n",
       "      <td>119.30</td>\n",
       "      <td>19.883333</td>\n",
       "      <td>1</td>\n",
       "      <td>2</td>\n",
       "    </tr>\n",
       "    <tr>\n",
       "      <th>2</th>\n",
       "      <td>15464.0</td>\n",
       "      <td>2011-01-05 15:56</td>\n",
       "      <td>338</td>\n",
       "      <td>1</td>\n",
       "      <td>1048.85</td>\n",
       "      <td>6.680573</td>\n",
       "      <td>1</td>\n",
       "      <td>2</td>\n",
       "    </tr>\n",
       "    <tr>\n",
       "      <th>3</th>\n",
       "      <td>12386.0</td>\n",
       "      <td>2011-01-06 12:37</td>\n",
       "      <td>337</td>\n",
       "      <td>1</td>\n",
       "      <td>143.00</td>\n",
       "      <td>71.500000</td>\n",
       "      <td>1</td>\n",
       "      <td>2</td>\n",
       "    </tr>\n",
       "    <tr>\n",
       "      <th>4</th>\n",
       "      <td>13187.0</td>\n",
       "      <td>2011-01-06 18:57</td>\n",
       "      <td>337</td>\n",
       "      <td>1</td>\n",
       "      <td>236.02</td>\n",
       "      <td>6.378919</td>\n",
       "      <td>1</td>\n",
       "      <td>2</td>\n",
       "    </tr>\n",
       "    <tr>\n",
       "      <th>...</th>\n",
       "      <td>...</td>\n",
       "      <td>...</td>\n",
       "      <td>...</td>\n",
       "      <td>...</td>\n",
       "      <td>...</td>\n",
       "      <td>...</td>\n",
       "      <td>...</td>\n",
       "      <td>...</td>\n",
       "    </tr>\n",
       "    <tr>\n",
       "      <th>4095</th>\n",
       "      <td>17389.0</td>\n",
       "      <td>2011-12-09 9:38</td>\n",
       "      <td>0</td>\n",
       "      <td>34</td>\n",
       "      <td>31833.68</td>\n",
       "      <td>149.453897</td>\n",
       "      <td>0</td>\n",
       "      <td>3</td>\n",
       "    </tr>\n",
       "    <tr>\n",
       "      <th>4096</th>\n",
       "      <td>17001.0</td>\n",
       "      <td>2011-12-09 9:38</td>\n",
       "      <td>0</td>\n",
       "      <td>10</td>\n",
       "      <td>3591.61</td>\n",
       "      <td>22.876497</td>\n",
       "      <td>0</td>\n",
       "      <td>3</td>\n",
       "    </tr>\n",
       "    <tr>\n",
       "      <th>4097</th>\n",
       "      <td>15694.0</td>\n",
       "      <td>2011-12-09 9:44</td>\n",
       "      <td>0</td>\n",
       "      <td>11</td>\n",
       "      <td>5632.07</td>\n",
       "      <td>86.647231</td>\n",
       "      <td>0</td>\n",
       "      <td>3</td>\n",
       "    </tr>\n",
       "    <tr>\n",
       "      <th>4098</th>\n",
       "      <td>17428.0</td>\n",
       "      <td>2011-12-09 9:45</td>\n",
       "      <td>0</td>\n",
       "      <td>26</td>\n",
       "      <td>16362.90</td>\n",
       "      <td>53.825329</td>\n",
       "      <td>0</td>\n",
       "      <td>3</td>\n",
       "    </tr>\n",
       "    <tr>\n",
       "      <th>4099</th>\n",
       "      <td>16954.0</td>\n",
       "      <td>2011-12-09 9:46</td>\n",
       "      <td>0</td>\n",
       "      <td>8</td>\n",
       "      <td>1738.28</td>\n",
       "      <td>41.387619</td>\n",
       "      <td>0</td>\n",
       "      <td>3</td>\n",
       "    </tr>\n",
       "  </tbody>\n",
       "</table>\n",
       "<p>4100 rows × 8 columns</p>\n",
       "</div>"
      ],
      "text/plain": [
       "      customerid                mx  Recency  Frequency  Monetary         ATV  \\\n",
       "0        16282.0  2011-01-04 11:42      339          1    168.30   15.300000   \n",
       "1        15266.0  2011-01-05 13:40      338          1    119.30   19.883333   \n",
       "2        15464.0  2011-01-05 15:56      338          1   1048.85    6.680573   \n",
       "3        12386.0  2011-01-06 12:37      337          1    143.00   71.500000   \n",
       "4        13187.0  2011-01-06 18:57      337          1    236.02    6.378919   \n",
       "...          ...               ...      ...        ...       ...         ...   \n",
       "4095     17389.0   2011-12-09 9:38        0         34  31833.68  149.453897   \n",
       "4096     17001.0   2011-12-09 9:38        0         10   3591.61   22.876497   \n",
       "4097     15694.0   2011-12-09 9:44        0         11   5632.07   86.647231   \n",
       "4098     17428.0   2011-12-09 9:45        0         26  16362.90   53.825329   \n",
       "4099     16954.0   2011-12-09 9:46        0          8   1738.28   41.387619   \n",
       "\n",
       "      churn_yn  labels  \n",
       "0            1       2  \n",
       "1            1       2  \n",
       "2            1       2  \n",
       "3            1       2  \n",
       "4            1       2  \n",
       "...        ...     ...  \n",
       "4095         0       3  \n",
       "4096         0       3  \n",
       "4097         0       3  \n",
       "4098         0       3  \n",
       "4099         0       3  \n",
       "\n",
       "[4100 rows x 8 columns]"
      ]
     },
     "execution_count": 201,
     "metadata": {},
     "output_type": "execute_result"
    }
   ],
   "source": [
    "log=pd.read_csv('data/log_df.csv')\n",
    "log"
   ]
  },
  {
   "cell_type": "code",
   "execution_count": 202,
   "id": "185d7980",
   "metadata": {},
   "outputs": [
    {
     "data": {
      "text/html": [
       "<div>\n",
       "<style scoped>\n",
       "    .dataframe tbody tr th:only-of-type {\n",
       "        vertical-align: middle;\n",
       "    }\n",
       "\n",
       "    .dataframe tbody tr th {\n",
       "        vertical-align: top;\n",
       "    }\n",
       "\n",
       "    .dataframe thead th {\n",
       "        text-align: right;\n",
       "    }\n",
       "</style>\n",
       "<table border=\"1\" class=\"dataframe\">\n",
       "  <thead>\n",
       "    <tr style=\"text-align: right;\">\n",
       "      <th></th>\n",
       "      <th>customerid</th>\n",
       "      <th>mx</th>\n",
       "      <th>Recency</th>\n",
       "      <th>Frequency</th>\n",
       "      <th>Monetary</th>\n",
       "      <th>ATV</th>\n",
       "      <th>churn_yn</th>\n",
       "      <th>labels</th>\n",
       "    </tr>\n",
       "  </thead>\n",
       "  <tbody>\n",
       "    <tr>\n",
       "      <th>0</th>\n",
       "      <td>16282.0</td>\n",
       "      <td>2011-01-04 11:42</td>\n",
       "      <td>339</td>\n",
       "      <td>1</td>\n",
       "      <td>168.30</td>\n",
       "      <td>15.300000</td>\n",
       "      <td>1</td>\n",
       "      <td>3</td>\n",
       "    </tr>\n",
       "    <tr>\n",
       "      <th>1</th>\n",
       "      <td>15266.0</td>\n",
       "      <td>2011-01-05 13:40</td>\n",
       "      <td>338</td>\n",
       "      <td>1</td>\n",
       "      <td>119.30</td>\n",
       "      <td>19.883333</td>\n",
       "      <td>1</td>\n",
       "      <td>3</td>\n",
       "    </tr>\n",
       "    <tr>\n",
       "      <th>2</th>\n",
       "      <td>15464.0</td>\n",
       "      <td>2011-01-05 15:56</td>\n",
       "      <td>338</td>\n",
       "      <td>1</td>\n",
       "      <td>1048.85</td>\n",
       "      <td>6.680573</td>\n",
       "      <td>1</td>\n",
       "      <td>3</td>\n",
       "    </tr>\n",
       "    <tr>\n",
       "      <th>3</th>\n",
       "      <td>12386.0</td>\n",
       "      <td>2011-01-06 12:37</td>\n",
       "      <td>337</td>\n",
       "      <td>1</td>\n",
       "      <td>143.00</td>\n",
       "      <td>71.500000</td>\n",
       "      <td>1</td>\n",
       "      <td>3</td>\n",
       "    </tr>\n",
       "    <tr>\n",
       "      <th>4</th>\n",
       "      <td>13187.0</td>\n",
       "      <td>2011-01-06 18:57</td>\n",
       "      <td>337</td>\n",
       "      <td>1</td>\n",
       "      <td>236.02</td>\n",
       "      <td>6.378919</td>\n",
       "      <td>1</td>\n",
       "      <td>3</td>\n",
       "    </tr>\n",
       "    <tr>\n",
       "      <th>...</th>\n",
       "      <td>...</td>\n",
       "      <td>...</td>\n",
       "      <td>...</td>\n",
       "      <td>...</td>\n",
       "      <td>...</td>\n",
       "      <td>...</td>\n",
       "      <td>...</td>\n",
       "      <td>...</td>\n",
       "    </tr>\n",
       "    <tr>\n",
       "      <th>4095</th>\n",
       "      <td>17389.0</td>\n",
       "      <td>2011-12-09 9:38</td>\n",
       "      <td>0</td>\n",
       "      <td>34</td>\n",
       "      <td>31833.68</td>\n",
       "      <td>149.453897</td>\n",
       "      <td>0</td>\n",
       "      <td>0</td>\n",
       "    </tr>\n",
       "    <tr>\n",
       "      <th>4096</th>\n",
       "      <td>17001.0</td>\n",
       "      <td>2011-12-09 9:38</td>\n",
       "      <td>0</td>\n",
       "      <td>10</td>\n",
       "      <td>3591.61</td>\n",
       "      <td>22.876497</td>\n",
       "      <td>0</td>\n",
       "      <td>0</td>\n",
       "    </tr>\n",
       "    <tr>\n",
       "      <th>4097</th>\n",
       "      <td>15694.0</td>\n",
       "      <td>2011-12-09 9:44</td>\n",
       "      <td>0</td>\n",
       "      <td>11</td>\n",
       "      <td>5632.07</td>\n",
       "      <td>86.647231</td>\n",
       "      <td>0</td>\n",
       "      <td>0</td>\n",
       "    </tr>\n",
       "    <tr>\n",
       "      <th>4098</th>\n",
       "      <td>17428.0</td>\n",
       "      <td>2011-12-09 9:45</td>\n",
       "      <td>0</td>\n",
       "      <td>26</td>\n",
       "      <td>16362.90</td>\n",
       "      <td>53.825329</td>\n",
       "      <td>0</td>\n",
       "      <td>0</td>\n",
       "    </tr>\n",
       "    <tr>\n",
       "      <th>4099</th>\n",
       "      <td>16954.0</td>\n",
       "      <td>2011-12-09 9:46</td>\n",
       "      <td>0</td>\n",
       "      <td>8</td>\n",
       "      <td>1738.28</td>\n",
       "      <td>41.387619</td>\n",
       "      <td>0</td>\n",
       "      <td>0</td>\n",
       "    </tr>\n",
       "  </tbody>\n",
       "</table>\n",
       "<p>4100 rows × 8 columns</p>\n",
       "</div>"
      ],
      "text/plain": [
       "      customerid                mx  Recency  Frequency  Monetary         ATV  \\\n",
       "0        16282.0  2011-01-04 11:42      339          1    168.30   15.300000   \n",
       "1        15266.0  2011-01-05 13:40      338          1    119.30   19.883333   \n",
       "2        15464.0  2011-01-05 15:56      338          1   1048.85    6.680573   \n",
       "3        12386.0  2011-01-06 12:37      337          1    143.00   71.500000   \n",
       "4        13187.0  2011-01-06 18:57      337          1    236.02    6.378919   \n",
       "...          ...               ...      ...        ...       ...         ...   \n",
       "4095     17389.0   2011-12-09 9:38        0         34  31833.68  149.453897   \n",
       "4096     17001.0   2011-12-09 9:38        0         10   3591.61   22.876497   \n",
       "4097     15694.0   2011-12-09 9:44        0         11   5632.07   86.647231   \n",
       "4098     17428.0   2011-12-09 9:45        0         26  16362.90   53.825329   \n",
       "4099     16954.0   2011-12-09 9:46        0          8   1738.28   41.387619   \n",
       "\n",
       "      churn_yn  labels  \n",
       "0            1       3  \n",
       "1            1       3  \n",
       "2            1       3  \n",
       "3            1       3  \n",
       "4            1       3  \n",
       "...        ...     ...  \n",
       "4095         0       0  \n",
       "4096         0       0  \n",
       "4097         0       0  \n",
       "4098         0       0  \n",
       "4099         0       0  \n",
       "\n",
       "[4100 rows x 8 columns]"
      ]
     },
     "execution_count": 202,
     "metadata": {},
     "output_type": "execute_result"
    }
   ],
   "source": [
    "mm=pd.read_csv('data/mm_df.csv')\n",
    "mm"
   ]
  },
  {
   "cell_type": "code",
   "execution_count": 8,
   "id": "b45069c9",
   "metadata": {},
   "outputs": [
    {
     "name": "stdout",
     "output_type": "stream",
     "text": [
      "  Multiple Comparison of Means - Tukey HSD, FWER=0.05   \n",
      "========================================================\n",
      "group1 group2  meandiff p-adj   lower     upper   reject\n",
      "--------------------------------------------------------\n",
      "     0      1  -51.9394   0.0  -58.3434  -45.5355   True\n",
      "     0      2  105.4066   0.0   99.4284  111.3848   True\n",
      "     0      3  -66.5745   0.0  -73.4151  -59.7339   True\n",
      "     1      2   157.346   0.0   151.228  163.4641   True\n",
      "     1      3  -14.6351   0.0  -21.5982   -7.6719   True\n",
      "     2      3 -171.9811   0.0 -178.5548 -165.4074   True\n",
      "--------------------------------------------------------\n"
     ]
    }
   ],
   "source": [
    "from statsmodels.stats.multicomp import pairwise_tukeyhsd\n",
    "\n",
    "res = pairwise_tukeyhsd(log['Recency'],log['labels'],  alpha=0.05)\n",
    "print(res)"
   ]
  },
  {
   "cell_type": "code",
   "execution_count": 11,
   "id": "80a340a4",
   "metadata": {},
   "outputs": [],
   "source": [
    "def tukey(variance,group,alpha=0.05):\n",
    "    res=pairwise_tukeyhsd(variance,group,alpha=alpha)\n",
    "    print(res)\n",
    "    return res"
   ]
  },
  {
   "cell_type": "markdown",
   "id": "80c5bb66",
   "metadata": {},
   "source": [
    "## Log 변환 군집결과"
   ]
  },
  {
   "cell_type": "code",
   "execution_count": 12,
   "id": "d738f3ed",
   "metadata": {},
   "outputs": [
    {
     "name": "stdout",
     "output_type": "stream",
     "text": [
      "  Multiple Comparison of Means - Tukey HSD, FWER=0.05   \n",
      "========================================================\n",
      "group1 group2  meandiff p-adj   lower     upper   reject\n",
      "--------------------------------------------------------\n",
      "     0      1  -51.9394   0.0  -58.3434  -45.5355   True\n",
      "     0      2  105.4066   0.0   99.4284  111.3848   True\n",
      "     0      3  -66.5745   0.0  -73.4151  -59.7339   True\n",
      "     1      2   157.346   0.0   151.228  163.4641   True\n",
      "     1      3  -14.6351   0.0  -21.5982   -7.6719   True\n",
      "     2      3 -171.9811   0.0 -178.5548 -165.4074   True\n",
      "--------------------------------------------------------\n",
      "Multiple Comparison of Means - Tukey HSD, FWER=0.05 \n",
      "====================================================\n",
      "group1 group2 meandiff p-adj   lower   upper  reject\n",
      "----------------------------------------------------\n",
      "     0      1  -1.5948    0.0    -2.3 -0.8896   True\n",
      "     0      2  -2.4548    0.0  -3.113 -1.7965   True\n",
      "     0      3    7.707    0.0  6.9538  8.4603   True\n",
      "     1      2  -0.8599 0.0058 -1.5336 -0.1863   True\n",
      "     1      3   9.3018    0.0  8.5351 10.0686   True\n",
      "     2      3  10.1618    0.0  9.4379 10.8856   True\n",
      "----------------------------------------------------\n",
      "    Multiple Comparison of Means - Tukey HSD, FWER=0.05    \n",
      "===========================================================\n",
      "group1 group2  meandiff  p-adj    lower      upper   reject\n",
      "-----------------------------------------------------------\n",
      "     0      1  -1330.888 0.0021 -2291.9782 -369.7978   True\n",
      "     0      2 -1516.7416 0.0001 -2413.9334 -619.5498   True\n",
      "     0      3  5067.5202    0.0  4040.9051 6094.1353   True\n",
      "     1      2  -185.8536 0.9543 -1104.0379  732.3306  False\n",
      "     1      3  6398.4082    0.0  5353.3973 7443.4191   True\n",
      "     2      3  6584.2618    0.0  5597.6988 7570.8248   True\n",
      "-----------------------------------------------------------\n",
      "  Multiple Comparison of Means - Tukey HSD, FWER=0.05   \n",
      "========================================================\n",
      "group1 group2  meandiff p-adj    lower    upper   reject\n",
      "--------------------------------------------------------\n",
      "     0      1 -129.9917 0.2108 -302.0567  42.0733  False\n",
      "     0      2 -121.3048 0.2111   -281.93  39.3204  False\n",
      "     0      3  -30.5859 0.9737 -214.3819   153.21  False\n",
      "     1      2    8.6869 0.9991 -155.6966 173.0704  False\n",
      "     1      3   99.4058 0.5211  -87.6836 286.4952  False\n",
      "     2      3   90.7189 0.5501  -85.9065 267.3443  False\n",
      "--------------------------------------------------------\n"
     ]
    }
   ],
   "source": [
    "res1=tukey(log['Recency'],log['labels'])\n",
    "res2=tukey(log['Frequency'],log['labels'])\n",
    "res3=tukey(log['Monetary'],log['labels'])\n",
    "res4=tukey(log['ATV'],log['labels'])"
   ]
  },
  {
   "cell_type": "markdown",
   "id": "8cc1d374",
   "metadata": {},
   "source": [
    "# 사후검정 군집 변수별 차이"
   ]
  },
  {
   "cell_type": "markdown",
   "id": "8b218f5b",
   "metadata": {},
   "source": [
    "## Recency\n",
    "집단별 차이가 통계적으로 유의함.  \n",
    "2번군집>0번군집>1번군집>3번군집 순"
   ]
  },
  {
   "cell_type": "code",
   "execution_count": 15,
   "id": "323ec464",
   "metadata": {},
   "outputs": [
    {
     "data": {
      "image/png": "[encoded data removed]",
      "text/plain": [
       "<Figure size 720x432 with 1 Axes>"
      ]
     },
     "execution_count": 15,
     "metadata": {},
     "output_type": "execute_result"
    },
    {
     "data": {
      "image/png": "[encoded data removed]",
      "text/plain": [
       "<Figure size 720x432 with 1 Axes>"
      ]
     },
     "metadata": {
      "needs_background": "light"
     },
     "output_type": "display_data"
    }
   ],
   "source": [
    "res1.plot_simultaneous()"
   ]
  },
  {
   "cell_type": "markdown",
   "id": "77cc314b",
   "metadata": {},
   "source": [
    "## Frequency\n",
    "집단별 차이가 통계적으로 유의함.  \n",
    "3번군집>0번군집>1번군집>2번군집 순"
   ]
  },
  {
   "cell_type": "code",
   "execution_count": 16,
   "id": "fb8d8784",
   "metadata": {
    "scrolled": false
   },
   "outputs": [
    {
     "data": {
      "image/png": "[encoded data removed]",
      "text/plain": [
       "<Figure size 720x432 with 1 Axes>"
      ]
     },
     "execution_count": 16,
     "metadata": {},
     "output_type": "execute_result"
    },
    {
     "data": {
      "image/png": "[encoded data removed]",
      "text/plain": [
       "<Figure size 720x432 with 1 Axes>"
      ]
     },
     "metadata": {
      "needs_background": "light"
     },
     "output_type": "display_data"
    }
   ],
   "source": [
    "res2.plot_simultaneous()"
   ]
  },
  {
   "cell_type": "markdown",
   "id": "a907c625",
   "metadata": {},
   "source": [
    "## Monetary\n",
    "대체로 집단별 차이가 통계적으로 유의하나 1,2번군집은 통계적으로 차이가 없음.  \n",
    "3번군집>0번군집>1번군집>2번군집 순"
   ]
  },
  {
   "cell_type": "code",
   "execution_count": 17,
   "id": "4dec6c01",
   "metadata": {},
   "outputs": [
    {
     "data": {
      "image/png": "[encoded data removed]",
      "text/plain": [
       "<Figure size 720x432 with 1 Axes>"
      ]
     },
     "execution_count": 17,
     "metadata": {},
     "output_type": "execute_result"
    },
    {
     "data": {
      "image/png": "[encoded data removed]",
      "text/plain": [
       "<Figure size 720x432 with 1 Axes>"
      ]
     },
     "metadata": {
      "needs_background": "light"
     },
     "output_type": "display_data"
    }
   ],
   "source": [
    "res3.plot_simultaneous()"
   ]
  },
  {
   "cell_type": "markdown",
   "id": "ee251e63",
   "metadata": {},
   "source": [
    "## ATV\n",
    "군집별 ATV가 통계적으로 차이가 없음.  \n",
    "0번군집>3번군집>2번군집>1번군집 순"
   ]
  },
  {
   "cell_type": "code",
   "execution_count": 18,
   "id": "456dfb32",
   "metadata": {},
   "outputs": [
    {
     "data": {
      "image/png": "[encoded data removed]",
      "text/plain": [
       "<Figure size 720x432 with 1 Axes>"
      ]
     },
     "execution_count": 18,
     "metadata": {},
     "output_type": "execute_result"
    },
    {
     "data": {
      "image/png": "[encoded data removed]",
      "text/plain": [
       "<Figure size 720x432 with 1 Axes>"
      ]
     },
     "metadata": {
      "needs_background": "light"
     },
     "output_type": "display_data"
    }
   ],
   "source": [
    "res4.plot_simultaneous()"
   ]
  },
  {
   "cell_type": "markdown",
   "id": "ac176df5",
   "metadata": {},
   "source": [
    "## Min-Max 변환 군집 결과"
   ]
  },
  {
   "cell_type": "code",
   "execution_count": 20,
   "id": "3b0b3921",
   "metadata": {},
   "outputs": [
    {
     "name": "stdout",
     "output_type": "stream",
     "text": [
      " Multiple Comparison of Means - Tukey HSD, FWER=0.05  \n",
      "======================================================\n",
      "group1 group2 meandiff p-adj   lower    upper   reject\n",
      "------------------------------------------------------\n",
      "     0      1 155.1925   0.0   152.709  157.676   True\n",
      "     0      2   57.532   0.0   55.5125  59.5515   True\n",
      "     0      3 260.1681   0.0  257.4957 262.8404   True\n",
      "     1      2 -97.6605   0.0 -100.4149 -94.9061   True\n",
      "     1      3 104.9756   0.0  101.7121  108.239   True\n",
      "     2      3  202.636   0.0  199.7102 205.5619   True\n",
      "------------------------------------------------------\n",
      "Multiple Comparison of Means - Tukey HSD, FWER=0.05 \n",
      "====================================================\n",
      "group1 group2 meandiff p-adj   lower   upper  reject\n",
      "----------------------------------------------------\n",
      "     0      1  -4.2327    0.0 -5.0733 -3.3921   True\n",
      "     0      2  -3.5248    0.0 -4.2084 -2.8413   True\n",
      "     0      3  -4.9034    0.0 -5.8079 -3.9989   True\n",
      "     1      2   0.7079 0.2069 -0.2244  1.6401  False\n",
      "     1      3  -0.6707 0.4015 -1.7752  0.4339  False\n",
      "     2      3  -1.3785  0.002 -2.3688 -0.3882   True\n",
      "----------------------------------------------------\n",
      "    Multiple Comparison of Means - Tukey HSD, FWER=0.05     \n",
      "============================================================\n",
      "group1 group2  meandiff  p-adj    lower      upper    reject\n",
      "------------------------------------------------------------\n",
      "     0      1 -2446.6277    0.0 -3506.5276 -1386.7277   True\n",
      "     0      2 -2149.7085    0.0 -3011.5847 -1287.8322   True\n",
      "     0      3 -2516.4374    0.0 -3656.9406 -1375.9342   True\n",
      "     1      2   296.9192 0.9159  -878.5967  1472.4351  False\n",
      "     1      3   -69.8098 0.9992 -1462.5605   1322.941  False\n",
      "     2      3   -366.729 0.8746 -1615.4072   881.9493  False\n",
      "------------------------------------------------------------\n",
      "  Multiple Comparison of Means - Tukey HSD, FWER=0.05  \n",
      "=======================================================\n",
      "group1 group2 meandiff p-adj    lower    upper   reject\n",
      "-------------------------------------------------------\n",
      "     0      1   5.9714 0.9998 -177.9742 189.9171  False\n",
      "     0      2 -24.6528 0.9745 -174.2314 124.9259  False\n",
      "     0      3 146.0717 0.2296  -51.8627  344.006  False\n",
      "     1      2 -30.6242 0.9805  -234.635 173.3866  False\n",
      "     1      3 140.1003 0.4438 -101.6117 381.8122  False\n",
      "     2      3 170.7244  0.179  -45.9837 387.4326  False\n",
      "-------------------------------------------------------\n"
     ]
    }
   ],
   "source": [
    "res1_1=tukey(mm['Recency'],mm['labels'])\n",
    "res2_2=tukey(mm['Frequency'],mm['labels'])\n",
    "res3_3=tukey(mm['Monetary'],mm['labels'])\n",
    "res4_4=tukey(mm['ATV'],mm['labels'])"
   ]
  },
  {
   "cell_type": "code",
   "execution_count": 26,
   "id": "46954a07",
   "metadata": {},
   "outputs": [
    {
     "data": {
      "image/png": "[encoded data removed]",
      "text/plain": [
       "<Figure size 720x432 with 1 Axes>"
      ]
     },
     "execution_count": 26,
     "metadata": {},
     "output_type": "execute_result"
    },
    {
     "data": {
      "image/png": "[encoded data removed]",
      "text/plain": [
       "<Figure size 720x432 with 1 Axes>"
      ]
     },
     "metadata": {
      "needs_background": "light"
     },
     "output_type": "display_data"
    }
   ],
   "source": [
    "res1_1.plot_simultaneous()"
   ]
  },
  {
   "cell_type": "code",
   "execution_count": 23,
   "id": "6adba863",
   "metadata": {},
   "outputs": [
    {
     "data": {
      "image/png": "[encoded data removed]",
      "text/plain": [
       "<Figure size 720x432 with 1 Axes>"
      ]
     },
     "execution_count": 23,
     "metadata": {},
     "output_type": "execute_result"
    },
    {
     "data": {
      "image/png": "[encoded data removed]",
      "text/plain": [
       "<Figure size 720x432 with 1 Axes>"
      ]
     },
     "metadata": {
      "needs_background": "light"
     },
     "output_type": "display_data"
    }
   ],
   "source": [
    "res2_2.plot_simultaneous()"
   ]
  },
  {
   "cell_type": "code",
   "execution_count": 24,
   "id": "362302b9",
   "metadata": {},
   "outputs": [
    {
     "data": {
      "image/png": "[encoded data removed]",
      "text/plain": [
       "<Figure size 720x432 with 1 Axes>"
      ]
     },
     "execution_count": 24,
     "metadata": {},
     "output_type": "execute_result"
    },
    {
     "data": {
      "image/png": "[encoded data removed]",
      "text/plain": [
       "<Figure size 720x432 with 1 Axes>"
      ]
     },
     "metadata": {
      "needs_background": "light"
     },
     "output_type": "display_data"
    }
   ],
   "source": [
    "res3_3.plot_simultaneous()"
   ]
  },
  {
   "cell_type": "code",
   "execution_count": 25,
   "id": "98dfcbc9",
   "metadata": {},
   "outputs": [
    {
     "data": {
      "image/png": "[encoded data removed]",
      "text/plain": [
       "<Figure size 720x432 with 1 Axes>"
      ]
     },
     "execution_count": 25,
     "metadata": {},
     "output_type": "execute_result"
    },
    {
     "data": {
      "image/png": "[encoded data removed]",
      "text/plain": [
       "<Figure size 720x432 with 1 Axes>"
      ]
     },
     "metadata": {
      "needs_background": "light"
     },
     "output_type": "display_data"
    }
   ],
   "source": [
    "res4_4.plot_simultaneous()"
   ]
  },
  {
   "cell_type": "markdown",
   "id": "5e6cdaa6",
   "metadata": {},
   "source": [
    "# 연관상품"
   ]
  },
  {
   "cell_type": "code",
   "execution_count": 203,
   "id": "c5b73fa6",
   "metadata": {},
   "outputs": [],
   "source": [
    "import pymysql"
   ]
  },
  {
   "cell_type": "code",
   "execution_count": 204,
   "id": "d75a6bbc",
   "metadata": {},
   "outputs": [],
   "source": [
    "def SQL_load(sql):\n",
    "    # db접속\n",
    "    db=pymysql.connect(host='localhost',port=3306,user='root',\n",
    "                   passwd='661400',db='plt',charset='utf8',\n",
    "                  cursorclass=pymysql.cursors.DictCursor)\n",
    "    \n",
    "    cs=db.cursor()\n",
    "    \n",
    "    cs.execute(sql)\n",
    "\n",
    "    res=cs.fetchall()\n",
    "\n",
    "    df=pd.DataFrame(res)\n",
    "    \n",
    "    db.close()\n",
    "    return df"
   ]
  },
  {
   "cell_type": "code",
   "execution_count": 205,
   "id": "332fbd6c",
   "metadata": {},
   "outputs": [],
   "source": [
    "retail=SQL_load('''select * from plt.retail_on_top10''')\n",
    "label=SQL_load('''select * from plt.log_df''')"
   ]
  },
  {
   "cell_type": "code",
   "execution_count": 206,
   "id": "00ec0398",
   "metadata": {},
   "outputs": [
    {
     "data": {
      "text/html": [
       "<div>\n",
       "<style scoped>\n",
       "    .dataframe tbody tr th:only-of-type {\n",
       "        vertical-align: middle;\n",
       "    }\n",
       "\n",
       "    .dataframe tbody tr th {\n",
       "        vertical-align: top;\n",
       "    }\n",
       "\n",
       "    .dataframe thead th {\n",
       "        text-align: right;\n",
       "    }\n",
       "</style>\n",
       "<table border=\"1\" class=\"dataframe\">\n",
       "  <thead>\n",
       "    <tr style=\"text-align: right;\">\n",
       "      <th></th>\n",
       "      <th>InvoiceNo</th>\n",
       "      <th>StockCode</th>\n",
       "      <th>Description</th>\n",
       "      <th>Quantity</th>\n",
       "      <th>InvoiceDate</th>\n",
       "      <th>UnitPrice</th>\n",
       "      <th>CustomerID</th>\n",
       "      <th>Country</th>\n",
       "    </tr>\n",
       "  </thead>\n",
       "  <tbody>\n",
       "    <tr>\n",
       "      <th>0</th>\n",
       "      <td>539993</td>\n",
       "      <td>22386</td>\n",
       "      <td>JUMBO BAG PINK POLKADOT</td>\n",
       "      <td>10</td>\n",
       "      <td>2011-01-04 10:00</td>\n",
       "      <td>1.95</td>\n",
       "      <td>13313.0</td>\n",
       "      <td>United Kingdom</td>\n",
       "    </tr>\n",
       "    <tr>\n",
       "      <th>1</th>\n",
       "      <td>539993</td>\n",
       "      <td>21499</td>\n",
       "      <td>BLUE POLKADOT WRAP</td>\n",
       "      <td>25</td>\n",
       "      <td>2011-01-04 10:00</td>\n",
       "      <td>0.42</td>\n",
       "      <td>13313.0</td>\n",
       "      <td>United Kingdom</td>\n",
       "    </tr>\n",
       "    <tr>\n",
       "      <th>2</th>\n",
       "      <td>539993</td>\n",
       "      <td>21498</td>\n",
       "      <td>RED RETROSPOT WRAP</td>\n",
       "      <td>25</td>\n",
       "      <td>2011-01-04 10:00</td>\n",
       "      <td>0.42</td>\n",
       "      <td>13313.0</td>\n",
       "      <td>United Kingdom</td>\n",
       "    </tr>\n",
       "    <tr>\n",
       "      <th>3</th>\n",
       "      <td>539993</td>\n",
       "      <td>22379</td>\n",
       "      <td>RECYCLING BAG RETROSPOT</td>\n",
       "      <td>5</td>\n",
       "      <td>2011-01-04 10:00</td>\n",
       "      <td>2.10</td>\n",
       "      <td>13313.0</td>\n",
       "      <td>United Kingdom</td>\n",
       "    </tr>\n",
       "    <tr>\n",
       "      <th>4</th>\n",
       "      <td>539993</td>\n",
       "      <td>20718</td>\n",
       "      <td>RED RETROSPOT SHOPPER BAG</td>\n",
       "      <td>10</td>\n",
       "      <td>2011-01-04 10:00</td>\n",
       "      <td>1.25</td>\n",
       "      <td>13313.0</td>\n",
       "      <td>United Kingdom</td>\n",
       "    </tr>\n",
       "    <tr>\n",
       "      <th>...</th>\n",
       "      <td>...</td>\n",
       "      <td>...</td>\n",
       "      <td>...</td>\n",
       "      <td>...</td>\n",
       "      <td>...</td>\n",
       "      <td>...</td>\n",
       "      <td>...</td>\n",
       "      <td>...</td>\n",
       "    </tr>\n",
       "    <tr>\n",
       "      <th>364667</th>\n",
       "      <td>581587</td>\n",
       "      <td>22613</td>\n",
       "      <td>PACK OF 20 SPACEBOY NAPKINS</td>\n",
       "      <td>12</td>\n",
       "      <td>2011-12-09 12:50</td>\n",
       "      <td>0.85</td>\n",
       "      <td>12680.0</td>\n",
       "      <td>France</td>\n",
       "    </tr>\n",
       "    <tr>\n",
       "      <th>364668</th>\n",
       "      <td>581587</td>\n",
       "      <td>22899</td>\n",
       "      <td>CHILDREN'S APRON DOLLY GIRL</td>\n",
       "      <td>6</td>\n",
       "      <td>2011-12-09 12:50</td>\n",
       "      <td>2.10</td>\n",
       "      <td>12680.0</td>\n",
       "      <td>France</td>\n",
       "    </tr>\n",
       "    <tr>\n",
       "      <th>364669</th>\n",
       "      <td>581587</td>\n",
       "      <td>23254</td>\n",
       "      <td>CHILDRENS CUTLERY DOLLY GIRL</td>\n",
       "      <td>4</td>\n",
       "      <td>2011-12-09 12:50</td>\n",
       "      <td>4.15</td>\n",
       "      <td>12680.0</td>\n",
       "      <td>France</td>\n",
       "    </tr>\n",
       "    <tr>\n",
       "      <th>364670</th>\n",
       "      <td>581587</td>\n",
       "      <td>23255</td>\n",
       "      <td>CHILDRENS CUTLERY CIRCUS PARADE</td>\n",
       "      <td>4</td>\n",
       "      <td>2011-12-09 12:50</td>\n",
       "      <td>4.15</td>\n",
       "      <td>12680.0</td>\n",
       "      <td>France</td>\n",
       "    </tr>\n",
       "    <tr>\n",
       "      <th>364671</th>\n",
       "      <td>581587</td>\n",
       "      <td>22138</td>\n",
       "      <td>BAKING SET 9 PIECE RETROSPOT</td>\n",
       "      <td>3</td>\n",
       "      <td>2011-12-09 12:50</td>\n",
       "      <td>4.95</td>\n",
       "      <td>12680.0</td>\n",
       "      <td>France</td>\n",
       "    </tr>\n",
       "  </tbody>\n",
       "</table>\n",
       "<p>364672 rows × 8 columns</p>\n",
       "</div>"
      ],
      "text/plain": [
       "       InvoiceNo StockCode                      Description  Quantity  \\\n",
       "0         539993     22386          JUMBO BAG PINK POLKADOT        10   \n",
       "1         539993     21499               BLUE POLKADOT WRAP        25   \n",
       "2         539993     21498              RED RETROSPOT WRAP         25   \n",
       "3         539993     22379         RECYCLING BAG RETROSPOT          5   \n",
       "4         539993     20718        RED RETROSPOT SHOPPER BAG        10   \n",
       "...          ...       ...                              ...       ...   \n",
       "364667    581587     22613      PACK OF 20 SPACEBOY NAPKINS        12   \n",
       "364668    581587     22899     CHILDREN'S APRON DOLLY GIRL          6   \n",
       "364669    581587     23254    CHILDRENS CUTLERY DOLLY GIRL          4   \n",
       "364670    581587     23255  CHILDRENS CUTLERY CIRCUS PARADE         4   \n",
       "364671    581587     22138    BAKING SET 9 PIECE RETROSPOT          3   \n",
       "\n",
       "             InvoiceDate  UnitPrice  CustomerID         Country  \n",
       "0       2011-01-04 10:00       1.95     13313.0  United Kingdom  \n",
       "1       2011-01-04 10:00       0.42     13313.0  United Kingdom  \n",
       "2       2011-01-04 10:00       0.42     13313.0  United Kingdom  \n",
       "3       2011-01-04 10:00       2.10     13313.0  United Kingdom  \n",
       "4       2011-01-04 10:00       1.25     13313.0  United Kingdom  \n",
       "...                  ...        ...         ...             ...  \n",
       "364667  2011-12-09 12:50       0.85     12680.0          France  \n",
       "364668  2011-12-09 12:50       2.10     12680.0          France  \n",
       "364669  2011-12-09 12:50       4.15     12680.0          France  \n",
       "364670  2011-12-09 12:50       4.15     12680.0          France  \n",
       "364671  2011-12-09 12:50       4.95     12680.0          France  \n",
       "\n",
       "[364672 rows x 8 columns]"
      ]
     },
     "execution_count": 206,
     "metadata": {},
     "output_type": "execute_result"
    }
   ],
   "source": [
    "retail"
   ]
  },
  {
   "cell_type": "code",
   "execution_count": 243,
   "id": "decc6cf3",
   "metadata": {},
   "outputs": [
    {
     "data": {
      "text/html": [
       "<div>\n",
       "<style scoped>\n",
       "    .dataframe tbody tr th:only-of-type {\n",
       "        vertical-align: middle;\n",
       "    }\n",
       "\n",
       "    .dataframe tbody tr th {\n",
       "        vertical-align: top;\n",
       "    }\n",
       "\n",
       "    .dataframe thead th {\n",
       "        text-align: right;\n",
       "    }\n",
       "</style>\n",
       "<table border=\"1\" class=\"dataframe\">\n",
       "  <thead>\n",
       "    <tr style=\"text-align: right;\">\n",
       "      <th></th>\n",
       "      <th>customerid</th>\n",
       "      <th>mx</th>\n",
       "      <th>Recency</th>\n",
       "      <th>Frequency</th>\n",
       "      <th>Monetary</th>\n",
       "      <th>ATV</th>\n",
       "      <th>churn_yn</th>\n",
       "      <th>labels</th>\n",
       "    </tr>\n",
       "  </thead>\n",
       "  <tbody>\n",
       "    <tr>\n",
       "      <th>2166</th>\n",
       "      <td>12678.0</td>\n",
       "      <td>2011-10-28 7:39</td>\n",
       "      <td>42</td>\n",
       "      <td>10</td>\n",
       "      <td>17407.18</td>\n",
       "      <td>108.794875</td>\n",
       "      <td>0</td>\n",
       "      <td>3</td>\n",
       "    </tr>\n",
       "    <tr>\n",
       "      <th>2170</th>\n",
       "      <td>16843.0</td>\n",
       "      <td>2011-10-28 9:06</td>\n",
       "      <td>42</td>\n",
       "      <td>16</td>\n",
       "      <td>10196.57</td>\n",
       "      <td>26.975053</td>\n",
       "      <td>0</td>\n",
       "      <td>3</td>\n",
       "    </tr>\n",
       "    <tr>\n",
       "      <th>2236</th>\n",
       "      <td>16029.0</td>\n",
       "      <td>2011-11-01 10:27</td>\n",
       "      <td>38</td>\n",
       "      <td>57</td>\n",
       "      <td>67912.32</td>\n",
       "      <td>323.392000</td>\n",
       "      <td>0</td>\n",
       "      <td>3</td>\n",
       "    </tr>\n",
       "    <tr>\n",
       "      <th>2249</th>\n",
       "      <td>16729.0</td>\n",
       "      <td>2011-11-01 14:29</td>\n",
       "      <td>38</td>\n",
       "      <td>21</td>\n",
       "      <td>7239.92</td>\n",
       "      <td>10.969576</td>\n",
       "      <td>0</td>\n",
       "      <td>3</td>\n",
       "    </tr>\n",
       "    <tr>\n",
       "      <th>2259</th>\n",
       "      <td>17719.0</td>\n",
       "      <td>2011-11-02 10:36</td>\n",
       "      <td>37</td>\n",
       "      <td>15</td>\n",
       "      <td>5396.04</td>\n",
       "      <td>19.693577</td>\n",
       "      <td>0</td>\n",
       "      <td>3</td>\n",
       "    </tr>\n",
       "    <tr>\n",
       "      <th>...</th>\n",
       "      <td>...</td>\n",
       "      <td>...</td>\n",
       "      <td>...</td>\n",
       "      <td>...</td>\n",
       "      <td>...</td>\n",
       "      <td>...</td>\n",
       "      <td>...</td>\n",
       "      <td>...</td>\n",
       "    </tr>\n",
       "    <tr>\n",
       "      <th>4095</th>\n",
       "      <td>17389.0</td>\n",
       "      <td>2011-12-09 9:38</td>\n",
       "      <td>0</td>\n",
       "      <td>34</td>\n",
       "      <td>31833.68</td>\n",
       "      <td>149.453897</td>\n",
       "      <td>0</td>\n",
       "      <td>3</td>\n",
       "    </tr>\n",
       "    <tr>\n",
       "      <th>4096</th>\n",
       "      <td>17001.0</td>\n",
       "      <td>2011-12-09 9:38</td>\n",
       "      <td>0</td>\n",
       "      <td>10</td>\n",
       "      <td>3591.61</td>\n",
       "      <td>22.876497</td>\n",
       "      <td>0</td>\n",
       "      <td>3</td>\n",
       "    </tr>\n",
       "    <tr>\n",
       "      <th>4097</th>\n",
       "      <td>15694.0</td>\n",
       "      <td>2011-12-09 9:44</td>\n",
       "      <td>0</td>\n",
       "      <td>11</td>\n",
       "      <td>5632.07</td>\n",
       "      <td>86.647231</td>\n",
       "      <td>0</td>\n",
       "      <td>3</td>\n",
       "    </tr>\n",
       "    <tr>\n",
       "      <th>4098</th>\n",
       "      <td>17428.0</td>\n",
       "      <td>2011-12-09 9:45</td>\n",
       "      <td>0</td>\n",
       "      <td>26</td>\n",
       "      <td>16362.90</td>\n",
       "      <td>53.825329</td>\n",
       "      <td>0</td>\n",
       "      <td>3</td>\n",
       "    </tr>\n",
       "    <tr>\n",
       "      <th>4099</th>\n",
       "      <td>16954.0</td>\n",
       "      <td>2011-12-09 9:46</td>\n",
       "      <td>0</td>\n",
       "      <td>8</td>\n",
       "      <td>1738.28</td>\n",
       "      <td>41.387619</td>\n",
       "      <td>0</td>\n",
       "      <td>3</td>\n",
       "    </tr>\n",
       "  </tbody>\n",
       "</table>\n",
       "<p>768 rows × 8 columns</p>\n",
       "</div>"
      ],
      "text/plain": [
       "      customerid                mx  Recency  Frequency  Monetary         ATV  \\\n",
       "2166     12678.0   2011-10-28 7:39       42         10  17407.18  108.794875   \n",
       "2170     16843.0   2011-10-28 9:06       42         16  10196.57   26.975053   \n",
       "2236     16029.0  2011-11-01 10:27       38         57  67912.32  323.392000   \n",
       "2249     16729.0  2011-11-01 14:29       38         21   7239.92   10.969576   \n",
       "2259     17719.0  2011-11-02 10:36       37         15   5396.04   19.693577   \n",
       "...          ...               ...      ...        ...       ...         ...   \n",
       "4095     17389.0   2011-12-09 9:38        0         34  31833.68  149.453897   \n",
       "4096     17001.0   2011-12-09 9:38        0         10   3591.61   22.876497   \n",
       "4097     15694.0   2011-12-09 9:44        0         11   5632.07   86.647231   \n",
       "4098     17428.0   2011-12-09 9:45        0         26  16362.90   53.825329   \n",
       "4099     16954.0   2011-12-09 9:46        0          8   1738.28   41.387619   \n",
       "\n",
       "      churn_yn  labels  \n",
       "2166         0       3  \n",
       "2170         0       3  \n",
       "2236         0       3  \n",
       "2249         0       3  \n",
       "2259         0       3  \n",
       "...        ...     ...  \n",
       "4095         0       3  \n",
       "4096         0       3  \n",
       "4097         0       3  \n",
       "4098         0       3  \n",
       "4099         0       3  \n",
       "\n",
       "[768 rows x 8 columns]"
      ]
     },
     "execution_count": 243,
     "metadata": {},
     "output_type": "execute_result"
    }
   ],
   "source": [
    "label"
   ]
  },
  {
   "cell_type": "code",
   "execution_count": 232,
   "id": "ef12b792",
   "metadata": {},
   "outputs": [],
   "source": [
    "label=label.query('labels==3')"
   ]
  },
  {
   "cell_type": "code",
   "execution_count": 239,
   "id": "36303159",
   "metadata": {},
   "outputs": [],
   "source": [
    "product=pd.merge(retail,label.sample(50),how='inner',left_on='CustomerID',right_on='customerid')[['labels','customerid','Description']]"
   ]
  },
  {
   "cell_type": "code",
   "execution_count": 240,
   "id": "fdcabb64",
   "metadata": {},
   "outputs": [
    {
     "data": {
      "text/html": [
       "<div>\n",
       "<style scoped>\n",
       "    .dataframe tbody tr th:only-of-type {\n",
       "        vertical-align: middle;\n",
       "    }\n",
       "\n",
       "    .dataframe tbody tr th {\n",
       "        vertical-align: top;\n",
       "    }\n",
       "\n",
       "    .dataframe thead th {\n",
       "        text-align: right;\n",
       "    }\n",
       "</style>\n",
       "<table border=\"1\" class=\"dataframe\">\n",
       "  <thead>\n",
       "    <tr style=\"text-align: right;\">\n",
       "      <th></th>\n",
       "      <th>labels</th>\n",
       "      <th>customerid</th>\n",
       "      <th>Description</th>\n",
       "    </tr>\n",
       "  </thead>\n",
       "  <tbody>\n",
       "    <tr>\n",
       "      <th>0</th>\n",
       "      <td>3</td>\n",
       "      <td>17841.0</td>\n",
       "      <td>DISCO BALL CHRISTMAS DECORATION</td>\n",
       "    </tr>\n",
       "    <tr>\n",
       "      <th>1</th>\n",
       "      <td>3</td>\n",
       "      <td>17841.0</td>\n",
       "      <td>SET 10 LIGHTS NIGHT OWL</td>\n",
       "    </tr>\n",
       "    <tr>\n",
       "      <th>2</th>\n",
       "      <td>3</td>\n",
       "      <td>17841.0</td>\n",
       "      <td>SWEETHEART CAKESTAND 3 TIER</td>\n",
       "    </tr>\n",
       "    <tr>\n",
       "      <th>3</th>\n",
       "      <td>3</td>\n",
       "      <td>17841.0</td>\n",
       "      <td>STRAWBERRY SHOPPER BAG</td>\n",
       "    </tr>\n",
       "    <tr>\n",
       "      <th>4</th>\n",
       "      <td>3</td>\n",
       "      <td>17841.0</td>\n",
       "      <td>RED RETROSPOT SHOPPER BAG</td>\n",
       "    </tr>\n",
       "    <tr>\n",
       "      <th>...</th>\n",
       "      <td>...</td>\n",
       "      <td>...</td>\n",
       "      <td>...</td>\n",
       "    </tr>\n",
       "    <tr>\n",
       "      <th>15447</th>\n",
       "      <td>3</td>\n",
       "      <td>12713.0</td>\n",
       "      <td>SET OF 4 PANTRY JELLY MOULDS</td>\n",
       "    </tr>\n",
       "    <tr>\n",
       "      <th>15448</th>\n",
       "      <td>3</td>\n",
       "      <td>12713.0</td>\n",
       "      <td>PACK OF 20 NAPKINS PANTRY DESIGN</td>\n",
       "    </tr>\n",
       "    <tr>\n",
       "      <th>15449</th>\n",
       "      <td>3</td>\n",
       "      <td>12713.0</td>\n",
       "      <td>PACK OF 20 NAPKINS RED APPLES</td>\n",
       "    </tr>\n",
       "    <tr>\n",
       "      <th>15450</th>\n",
       "      <td>3</td>\n",
       "      <td>12713.0</td>\n",
       "      <td>JINGLE BELL HEART ANTIQUE SILVER</td>\n",
       "    </tr>\n",
       "    <tr>\n",
       "      <th>15451</th>\n",
       "      <td>3</td>\n",
       "      <td>12713.0</td>\n",
       "      <td>RIBBON REEL MAKING SNOWMEN</td>\n",
       "    </tr>\n",
       "  </tbody>\n",
       "</table>\n",
       "<p>15452 rows × 3 columns</p>\n",
       "</div>"
      ],
      "text/plain": [
       "       labels  customerid                       Description\n",
       "0           3     17841.0   DISCO BALL CHRISTMAS DECORATION\n",
       "1           3     17841.0           SET 10 LIGHTS NIGHT OWL\n",
       "2           3     17841.0       SWEETHEART CAKESTAND 3 TIER\n",
       "3           3     17841.0            STRAWBERRY SHOPPER BAG\n",
       "4           3     17841.0         RED RETROSPOT SHOPPER BAG\n",
       "...       ...         ...                               ...\n",
       "15447       3     12713.0      SET OF 4 PANTRY JELLY MOULDS\n",
       "15448       3     12713.0  PACK OF 20 NAPKINS PANTRY DESIGN\n",
       "15449       3     12713.0     PACK OF 20 NAPKINS RED APPLES\n",
       "15450       3     12713.0  JINGLE BELL HEART ANTIQUE SILVER\n",
       "15451       3     12713.0       RIBBON REEL MAKING SNOWMEN \n",
       "\n",
       "[15452 rows x 3 columns]"
      ]
     },
     "execution_count": 240,
     "metadata": {},
     "output_type": "execute_result"
    }
   ],
   "source": [
    "product"
   ]
  },
  {
   "cell_type": "code",
   "execution_count": 241,
   "id": "1ce8d065",
   "metadata": {},
   "outputs": [],
   "source": [
    "prod_1=product.copy()"
   ]
  },
  {
   "cell_type": "code",
   "execution_count": 242,
   "id": "3bf2f60f",
   "metadata": {},
   "outputs": [
    {
     "ename": "MemoryError",
     "evalue": "Unable to allocate 225. MiB for an array with shape (59034992,) and data type int32",
     "output_type": "error",
     "traceback": [
      "\u001b[1;31m---------------------------------------------------------------------------\u001b[0m",
      "\u001b[1;31mMemoryError\u001b[0m                               Traceback (most recent call last)",
      "Input \u001b[1;32mIn [242]\u001b[0m, in \u001b[0;36m<cell line: 1>\u001b[1;34m()\u001b[0m\n\u001b[1;32m----> 1\u001b[0m a\u001b[38;5;241m=\u001b[39m\u001b[43mpd\u001b[49m\u001b[38;5;241;43m.\u001b[39;49m\u001b[43mmerge\u001b[49m\u001b[43m(\u001b[49m\u001b[43mproduct\u001b[49m\u001b[43m,\u001b[49m\u001b[43mprod_1\u001b[49m\u001b[43m,\u001b[49m\u001b[43mhow\u001b[49m\u001b[38;5;241;43m=\u001b[39;49m\u001b[38;5;124;43m'\u001b[39;49m\u001b[38;5;124;43minner\u001b[39;49m\u001b[38;5;124;43m'\u001b[39;49m\u001b[43m,\u001b[49m\u001b[43mon\u001b[49m\u001b[38;5;241;43m=\u001b[39;49m\u001b[38;5;124;43m'\u001b[39;49m\u001b[38;5;124;43mcustomerid\u001b[39;49m\u001b[38;5;124;43m'\u001b[39;49m\u001b[43m)\u001b[49m\n",
      "File \u001b[1;32m~\\AppData\\Roaming\\Python\\Python39\\site-packages\\pandas\\core\\reshape\\merge.py:122\u001b[0m, in \u001b[0;36mmerge\u001b[1;34m(left, right, how, on, left_on, right_on, left_index, right_index, sort, suffixes, copy, indicator, validate)\u001b[0m\n\u001b[0;32m     90\u001b[0m \u001b[38;5;129m@Substitution\u001b[39m(\u001b[38;5;124m\"\u001b[39m\u001b[38;5;130;01m\\n\u001b[39;00m\u001b[38;5;124mleft : DataFrame or named Series\u001b[39m\u001b[38;5;124m\"\u001b[39m)\n\u001b[0;32m     91\u001b[0m \u001b[38;5;129m@Appender\u001b[39m(_merge_doc, indents\u001b[38;5;241m=\u001b[39m\u001b[38;5;241m0\u001b[39m)\n\u001b[0;32m     92\u001b[0m \u001b[38;5;28;01mdef\u001b[39;00m \u001b[38;5;21mmerge\u001b[39m(\n\u001b[1;32m   (...)\u001b[0m\n\u001b[0;32m    105\u001b[0m     validate: \u001b[38;5;28mstr\u001b[39m \u001b[38;5;241m|\u001b[39m \u001b[38;5;28;01mNone\u001b[39;00m \u001b[38;5;241m=\u001b[39m \u001b[38;5;28;01mNone\u001b[39;00m,\n\u001b[0;32m    106\u001b[0m ) \u001b[38;5;241m-\u001b[39m\u001b[38;5;241m>\u001b[39m DataFrame:\n\u001b[0;32m    107\u001b[0m     op \u001b[38;5;241m=\u001b[39m _MergeOperation(\n\u001b[0;32m    108\u001b[0m         left,\n\u001b[0;32m    109\u001b[0m         right,\n\u001b[1;32m   (...)\u001b[0m\n\u001b[0;32m    120\u001b[0m         validate\u001b[38;5;241m=\u001b[39mvalidate,\n\u001b[0;32m    121\u001b[0m     )\n\u001b[1;32m--> 122\u001b[0m     \u001b[38;5;28;01mreturn\u001b[39;00m \u001b[43mop\u001b[49m\u001b[38;5;241;43m.\u001b[39;49m\u001b[43mget_result\u001b[49m\u001b[43m(\u001b[49m\u001b[43m)\u001b[49m\n",
      "File \u001b[1;32m~\\AppData\\Roaming\\Python\\Python39\\site-packages\\pandas\\core\\reshape\\merge.py:716\u001b[0m, in \u001b[0;36m_MergeOperation.get_result\u001b[1;34m(self)\u001b[0m\n\u001b[0;32m    713\u001b[0m \u001b[38;5;28;01mif\u001b[39;00m \u001b[38;5;28mself\u001b[39m\u001b[38;5;241m.\u001b[39mindicator:\n\u001b[0;32m    714\u001b[0m     \u001b[38;5;28mself\u001b[39m\u001b[38;5;241m.\u001b[39mleft, \u001b[38;5;28mself\u001b[39m\u001b[38;5;241m.\u001b[39mright \u001b[38;5;241m=\u001b[39m \u001b[38;5;28mself\u001b[39m\u001b[38;5;241m.\u001b[39m_indicator_pre_merge(\u001b[38;5;28mself\u001b[39m\u001b[38;5;241m.\u001b[39mleft, \u001b[38;5;28mself\u001b[39m\u001b[38;5;241m.\u001b[39mright)\n\u001b[1;32m--> 716\u001b[0m join_index, left_indexer, right_indexer \u001b[38;5;241m=\u001b[39m \u001b[38;5;28;43mself\u001b[39;49m\u001b[38;5;241;43m.\u001b[39;49m\u001b[43m_get_join_info\u001b[49m\u001b[43m(\u001b[49m\u001b[43m)\u001b[49m\n\u001b[0;32m    718\u001b[0m llabels, rlabels \u001b[38;5;241m=\u001b[39m _items_overlap_with_suffix(\n\u001b[0;32m    719\u001b[0m     \u001b[38;5;28mself\u001b[39m\u001b[38;5;241m.\u001b[39mleft\u001b[38;5;241m.\u001b[39m_info_axis, \u001b[38;5;28mself\u001b[39m\u001b[38;5;241m.\u001b[39mright\u001b[38;5;241m.\u001b[39m_info_axis, \u001b[38;5;28mself\u001b[39m\u001b[38;5;241m.\u001b[39msuffixes\n\u001b[0;32m    720\u001b[0m )\n\u001b[0;32m    722\u001b[0m lindexers \u001b[38;5;241m=\u001b[39m {\u001b[38;5;241m1\u001b[39m: left_indexer} \u001b[38;5;28;01mif\u001b[39;00m left_indexer \u001b[38;5;129;01mis\u001b[39;00m \u001b[38;5;129;01mnot\u001b[39;00m \u001b[38;5;28;01mNone\u001b[39;00m \u001b[38;5;28;01melse\u001b[39;00m {}\n",
      "File \u001b[1;32m~\\AppData\\Roaming\\Python\\Python39\\site-packages\\pandas\\core\\reshape\\merge.py:1001\u001b[0m, in \u001b[0;36m_MergeOperation._get_join_info\u001b[1;34m(self)\u001b[0m\n\u001b[0;32m    999\u001b[0m             right_indexer \u001b[38;5;241m=\u001b[39m np\u001b[38;5;241m.\u001b[39marray([\u001b[38;5;241m-\u001b[39m\u001b[38;5;241m1\u001b[39m] \u001b[38;5;241m*\u001b[39m \u001b[38;5;28mlen\u001b[39m(join_index), dtype\u001b[38;5;241m=\u001b[39mnp\u001b[38;5;241m.\u001b[39mintp)\n\u001b[0;32m   1000\u001b[0m     \u001b[38;5;28;01melse\u001b[39;00m:\n\u001b[1;32m-> 1001\u001b[0m         join_index \u001b[38;5;241m=\u001b[39m Index(\u001b[43mnp\u001b[49m\u001b[38;5;241;43m.\u001b[39;49m\u001b[43marange\u001b[49m\u001b[43m(\u001b[49m\u001b[38;5;28;43mlen\u001b[39;49m\u001b[43m(\u001b[49m\u001b[43mleft_indexer\u001b[49m\u001b[43m)\u001b[49m\u001b[43m)\u001b[49m)\n\u001b[0;32m   1003\u001b[0m \u001b[38;5;28;01mif\u001b[39;00m \u001b[38;5;28mlen\u001b[39m(join_index) \u001b[38;5;241m==\u001b[39m \u001b[38;5;241m0\u001b[39m:\n\u001b[0;32m   1004\u001b[0m     join_index \u001b[38;5;241m=\u001b[39m join_index\u001b[38;5;241m.\u001b[39mastype(\u001b[38;5;28mobject\u001b[39m)\n",
      "\u001b[1;31mMemoryError\u001b[0m: Unable to allocate 225. MiB for an array with shape (59034992,) and data type int32"
     ]
    }
   ],
   "source": [
    "a=pd.merge(product,prod_1,how='inner',on='customerid')"
   ]
  },
  {
   "cell_type": "code",
   "execution_count": 211,
   "id": "e7f56818",
   "metadata": {},
   "outputs": [],
   "source": [
    "df=a.drop('labels_y',axis=1)"
   ]
  },
  {
   "cell_type": "code",
   "execution_count": 212,
   "id": "3e2aaaf5",
   "metadata": {},
   "outputs": [],
   "source": [
    "df2=df.query('Description_x!=Description_y')"
   ]
  },
  {
   "cell_type": "code",
   "execution_count": 213,
   "id": "fd49f858",
   "metadata": {},
   "outputs": [
    {
     "data": {
      "text/html": [
       "<div>\n",
       "<style scoped>\n",
       "    .dataframe tbody tr th:only-of-type {\n",
       "        vertical-align: middle;\n",
       "    }\n",
       "\n",
       "    .dataframe tbody tr th {\n",
       "        vertical-align: top;\n",
       "    }\n",
       "\n",
       "    .dataframe thead th {\n",
       "        text-align: right;\n",
       "    }\n",
       "</style>\n",
       "<table border=\"1\" class=\"dataframe\">\n",
       "  <thead>\n",
       "    <tr style=\"text-align: right;\">\n",
       "      <th></th>\n",
       "      <th>labels_x</th>\n",
       "      <th>customerid</th>\n",
       "      <th>Description_x</th>\n",
       "      <th>Description_y</th>\n",
       "    </tr>\n",
       "  </thead>\n",
       "  <tbody>\n",
       "    <tr>\n",
       "      <th>1</th>\n",
       "      <td>3</td>\n",
       "      <td>14299.0</td>\n",
       "      <td>SET OF 72 PINK HEART PAPER DOILIES</td>\n",
       "      <td>VINTAGE SNAP CARDS</td>\n",
       "    </tr>\n",
       "    <tr>\n",
       "      <th>2</th>\n",
       "      <td>3</td>\n",
       "      <td>14299.0</td>\n",
       "      <td>SET OF 72 PINK HEART PAPER DOILIES</td>\n",
       "      <td>HAND WARMER OWL DESIGN</td>\n",
       "    </tr>\n",
       "    <tr>\n",
       "      <th>3</th>\n",
       "      <td>3</td>\n",
       "      <td>14299.0</td>\n",
       "      <td>SET OF 72 PINK HEART PAPER DOILIES</td>\n",
       "      <td>REGENCY CAKESTAND 3 TIER</td>\n",
       "    </tr>\n",
       "    <tr>\n",
       "      <th>4</th>\n",
       "      <td>3</td>\n",
       "      <td>14299.0</td>\n",
       "      <td>SET OF 72 PINK HEART PAPER DOILIES</td>\n",
       "      <td>RED RETROSPOT CAKE STAND</td>\n",
       "    </tr>\n",
       "    <tr>\n",
       "      <th>5</th>\n",
       "      <td>3</td>\n",
       "      <td>14299.0</td>\n",
       "      <td>SET OF 72 PINK HEART PAPER DOILIES</td>\n",
       "      <td>COOK WITH WINE METAL SIGN</td>\n",
       "    </tr>\n",
       "    <tr>\n",
       "      <th>...</th>\n",
       "      <td>...</td>\n",
       "      <td>...</td>\n",
       "      <td>...</td>\n",
       "      <td>...</td>\n",
       "    </tr>\n",
       "    <tr>\n",
       "      <th>1441176</th>\n",
       "      <td>1</td>\n",
       "      <td>15699.0</td>\n",
       "      <td>PAPER BUNTING VINTAGE PAISLEY</td>\n",
       "      <td>SWEETHEART 3 TIER CAKE STAND</td>\n",
       "    </tr>\n",
       "    <tr>\n",
       "      <th>1441177</th>\n",
       "      <td>1</td>\n",
       "      <td>15699.0</td>\n",
       "      <td>PAPER BUNTING VINTAGE PAISLEY</td>\n",
       "      <td>SET OF 4 ENGLISH ROSE PLACEMATS</td>\n",
       "    </tr>\n",
       "    <tr>\n",
       "      <th>1441178</th>\n",
       "      <td>1</td>\n",
       "      <td>15699.0</td>\n",
       "      <td>PAPER BUNTING VINTAGE PAISLEY</td>\n",
       "      <td>SET OF 36 TEATIME PAPER DOILIES</td>\n",
       "    </tr>\n",
       "    <tr>\n",
       "      <th>1441179</th>\n",
       "      <td>1</td>\n",
       "      <td>15699.0</td>\n",
       "      <td>PAPER BUNTING VINTAGE PAISLEY</td>\n",
       "      <td>SET OF 36 PAISLEY FLOWER DOILIES</td>\n",
       "    </tr>\n",
       "    <tr>\n",
       "      <th>1441180</th>\n",
       "      <td>1</td>\n",
       "      <td>15699.0</td>\n",
       "      <td>PAPER BUNTING VINTAGE PAISLEY</td>\n",
       "      <td>WOOD BLACK BOARD ANT WHITE FINISH</td>\n",
       "    </tr>\n",
       "  </tbody>\n",
       "</table>\n",
       "<p>1425878 rows × 4 columns</p>\n",
       "</div>"
      ],
      "text/plain": [
       "         labels_x  customerid                       Description_x  \\\n",
       "1               3     14299.0  SET OF 72 PINK HEART PAPER DOILIES   \n",
       "2               3     14299.0  SET OF 72 PINK HEART PAPER DOILIES   \n",
       "3               3     14299.0  SET OF 72 PINK HEART PAPER DOILIES   \n",
       "4               3     14299.0  SET OF 72 PINK HEART PAPER DOILIES   \n",
       "5               3     14299.0  SET OF 72 PINK HEART PAPER DOILIES   \n",
       "...           ...         ...                                 ...   \n",
       "1441176         1     15699.0       PAPER BUNTING VINTAGE PAISLEY   \n",
       "1441177         1     15699.0       PAPER BUNTING VINTAGE PAISLEY   \n",
       "1441178         1     15699.0       PAPER BUNTING VINTAGE PAISLEY   \n",
       "1441179         1     15699.0       PAPER BUNTING VINTAGE PAISLEY   \n",
       "1441180         1     15699.0       PAPER BUNTING VINTAGE PAISLEY   \n",
       "\n",
       "                             Description_y  \n",
       "1                       VINTAGE SNAP CARDS  \n",
       "2                   HAND WARMER OWL DESIGN  \n",
       "3                 REGENCY CAKESTAND 3 TIER  \n",
       "4                 RED RETROSPOT CAKE STAND  \n",
       "5               COOK WITH WINE METAL SIGN   \n",
       "...                                    ...  \n",
       "1441176      SWEETHEART 3 TIER CAKE STAND   \n",
       "1441177    SET OF 4 ENGLISH ROSE PLACEMATS  \n",
       "1441178    SET OF 36 TEATIME PAPER DOILIES  \n",
       "1441179   SET OF 36 PAISLEY FLOWER DOILIES  \n",
       "1441180  WOOD BLACK BOARD ANT WHITE FINISH  \n",
       "\n",
       "[1425878 rows x 4 columns]"
      ]
     },
     "execution_count": 213,
     "metadata": {},
     "output_type": "execute_result"
    }
   ],
   "source": [
    "df2"
   ]
  },
  {
   "cell_type": "code",
   "execution_count": 214,
   "id": "0a2ae0ba",
   "metadata": {},
   "outputs": [],
   "source": [
    "df2.columns=['labels','id','prod_1','prod_2']"
   ]
  },
  {
   "cell_type": "code",
   "execution_count": 215,
   "id": "73cd6fae",
   "metadata": {},
   "outputs": [
    {
     "data": {
      "text/html": [
       "<div>\n",
       "<style scoped>\n",
       "    .dataframe tbody tr th:only-of-type {\n",
       "        vertical-align: middle;\n",
       "    }\n",
       "\n",
       "    .dataframe tbody tr th {\n",
       "        vertical-align: top;\n",
       "    }\n",
       "\n",
       "    .dataframe thead th {\n",
       "        text-align: right;\n",
       "    }\n",
       "</style>\n",
       "<table border=\"1\" class=\"dataframe\">\n",
       "  <thead>\n",
       "    <tr style=\"text-align: right;\">\n",
       "      <th></th>\n",
       "      <th>labels</th>\n",
       "      <th>id</th>\n",
       "      <th>prod_1</th>\n",
       "      <th>prod_2</th>\n",
       "    </tr>\n",
       "  </thead>\n",
       "  <tbody>\n",
       "    <tr>\n",
       "      <th>1</th>\n",
       "      <td>3</td>\n",
       "      <td>14299.0</td>\n",
       "      <td>SET OF 72 PINK HEART PAPER DOILIES</td>\n",
       "      <td>VINTAGE SNAP CARDS</td>\n",
       "    </tr>\n",
       "    <tr>\n",
       "      <th>2</th>\n",
       "      <td>3</td>\n",
       "      <td>14299.0</td>\n",
       "      <td>SET OF 72 PINK HEART PAPER DOILIES</td>\n",
       "      <td>HAND WARMER OWL DESIGN</td>\n",
       "    </tr>\n",
       "    <tr>\n",
       "      <th>3</th>\n",
       "      <td>3</td>\n",
       "      <td>14299.0</td>\n",
       "      <td>SET OF 72 PINK HEART PAPER DOILIES</td>\n",
       "      <td>REGENCY CAKESTAND 3 TIER</td>\n",
       "    </tr>\n",
       "    <tr>\n",
       "      <th>4</th>\n",
       "      <td>3</td>\n",
       "      <td>14299.0</td>\n",
       "      <td>SET OF 72 PINK HEART PAPER DOILIES</td>\n",
       "      <td>RED RETROSPOT CAKE STAND</td>\n",
       "    </tr>\n",
       "    <tr>\n",
       "      <th>5</th>\n",
       "      <td>3</td>\n",
       "      <td>14299.0</td>\n",
       "      <td>SET OF 72 PINK HEART PAPER DOILIES</td>\n",
       "      <td>COOK WITH WINE METAL SIGN</td>\n",
       "    </tr>\n",
       "    <tr>\n",
       "      <th>...</th>\n",
       "      <td>...</td>\n",
       "      <td>...</td>\n",
       "      <td>...</td>\n",
       "      <td>...</td>\n",
       "    </tr>\n",
       "    <tr>\n",
       "      <th>1441176</th>\n",
       "      <td>1</td>\n",
       "      <td>15699.0</td>\n",
       "      <td>PAPER BUNTING VINTAGE PAISLEY</td>\n",
       "      <td>SWEETHEART 3 TIER CAKE STAND</td>\n",
       "    </tr>\n",
       "    <tr>\n",
       "      <th>1441177</th>\n",
       "      <td>1</td>\n",
       "      <td>15699.0</td>\n",
       "      <td>PAPER BUNTING VINTAGE PAISLEY</td>\n",
       "      <td>SET OF 4 ENGLISH ROSE PLACEMATS</td>\n",
       "    </tr>\n",
       "    <tr>\n",
       "      <th>1441178</th>\n",
       "      <td>1</td>\n",
       "      <td>15699.0</td>\n",
       "      <td>PAPER BUNTING VINTAGE PAISLEY</td>\n",
       "      <td>SET OF 36 TEATIME PAPER DOILIES</td>\n",
       "    </tr>\n",
       "    <tr>\n",
       "      <th>1441179</th>\n",
       "      <td>1</td>\n",
       "      <td>15699.0</td>\n",
       "      <td>PAPER BUNTING VINTAGE PAISLEY</td>\n",
       "      <td>SET OF 36 PAISLEY FLOWER DOILIES</td>\n",
       "    </tr>\n",
       "    <tr>\n",
       "      <th>1441180</th>\n",
       "      <td>1</td>\n",
       "      <td>15699.0</td>\n",
       "      <td>PAPER BUNTING VINTAGE PAISLEY</td>\n",
       "      <td>WOOD BLACK BOARD ANT WHITE FINISH</td>\n",
       "    </tr>\n",
       "  </tbody>\n",
       "</table>\n",
       "<p>1425878 rows × 4 columns</p>\n",
       "</div>"
      ],
      "text/plain": [
       "         labels       id                              prod_1  \\\n",
       "1             3  14299.0  SET OF 72 PINK HEART PAPER DOILIES   \n",
       "2             3  14299.0  SET OF 72 PINK HEART PAPER DOILIES   \n",
       "3             3  14299.0  SET OF 72 PINK HEART PAPER DOILIES   \n",
       "4             3  14299.0  SET OF 72 PINK HEART PAPER DOILIES   \n",
       "5             3  14299.0  SET OF 72 PINK HEART PAPER DOILIES   \n",
       "...         ...      ...                                 ...   \n",
       "1441176       1  15699.0       PAPER BUNTING VINTAGE PAISLEY   \n",
       "1441177       1  15699.0       PAPER BUNTING VINTAGE PAISLEY   \n",
       "1441178       1  15699.0       PAPER BUNTING VINTAGE PAISLEY   \n",
       "1441179       1  15699.0       PAPER BUNTING VINTAGE PAISLEY   \n",
       "1441180       1  15699.0       PAPER BUNTING VINTAGE PAISLEY   \n",
       "\n",
       "                                    prod_2  \n",
       "1                       VINTAGE SNAP CARDS  \n",
       "2                   HAND WARMER OWL DESIGN  \n",
       "3                 REGENCY CAKESTAND 3 TIER  \n",
       "4                 RED RETROSPOT CAKE STAND  \n",
       "5               COOK WITH WINE METAL SIGN   \n",
       "...                                    ...  \n",
       "1441176      SWEETHEART 3 TIER CAKE STAND   \n",
       "1441177    SET OF 4 ENGLISH ROSE PLACEMATS  \n",
       "1441178    SET OF 36 TEATIME PAPER DOILIES  \n",
       "1441179   SET OF 36 PAISLEY FLOWER DOILIES  \n",
       "1441180  WOOD BLACK BOARD ANT WHITE FINISH  \n",
       "\n",
       "[1425878 rows x 4 columns]"
      ]
     },
     "execution_count": 215,
     "metadata": {},
     "output_type": "execute_result"
    }
   ],
   "source": [
    "df2"
   ]
  },
  {
   "cell_type": "code",
   "execution_count": 216,
   "id": "11c939ac",
   "metadata": {
    "scrolled": false
   },
   "outputs": [],
   "source": [
    "cnt=df2.groupby(['labels','id','prod_1','prod_2']).value_counts()"
   ]
  },
  {
   "cell_type": "code",
   "execution_count": 217,
   "id": "46c66061",
   "metadata": {},
   "outputs": [
    {
     "data": {
      "text/html": [
       "<div>\n",
       "<style scoped>\n",
       "    .dataframe tbody tr th:only-of-type {\n",
       "        vertical-align: middle;\n",
       "    }\n",
       "\n",
       "    .dataframe tbody tr th {\n",
       "        vertical-align: top;\n",
       "    }\n",
       "\n",
       "    .dataframe thead th {\n",
       "        text-align: right;\n",
       "    }\n",
       "</style>\n",
       "<table border=\"1\" class=\"dataframe\">\n",
       "  <thead>\n",
       "    <tr style=\"text-align: right;\">\n",
       "      <th></th>\n",
       "      <th></th>\n",
       "      <th></th>\n",
       "      <th></th>\n",
       "      <th>0</th>\n",
       "    </tr>\n",
       "    <tr>\n",
       "      <th>labels</th>\n",
       "      <th>id</th>\n",
       "      <th>prod_1</th>\n",
       "      <th>prod_2</th>\n",
       "      <th></th>\n",
       "    </tr>\n",
       "  </thead>\n",
       "  <tbody>\n",
       "    <tr>\n",
       "      <th rowspan=\"5\" valign=\"top\">0</th>\n",
       "      <th rowspan=\"5\" valign=\"top\">12886.0</th>\n",
       "      <th rowspan=\"5\" valign=\"top\">12 PENCILS TALL TUBE WOODLAND</th>\n",
       "      <th>3 HOOK PHOTO SHELF ANTIQUE WHITE</th>\n",
       "      <td>1</td>\n",
       "    </tr>\n",
       "    <tr>\n",
       "      <th>3 TRADITIONAl BISCUIT CUTTERS  SET</th>\n",
       "      <td>1</td>\n",
       "    </tr>\n",
       "    <tr>\n",
       "      <th>36 DOILIES VINTAGE CHRISTMAS</th>\n",
       "      <td>1</td>\n",
       "    </tr>\n",
       "    <tr>\n",
       "      <th>6 GIFT TAGS VINTAGE CHRISTMAS</th>\n",
       "      <td>1</td>\n",
       "    </tr>\n",
       "    <tr>\n",
       "      <th>6 ROCKET BALLOONS</th>\n",
       "      <td>1</td>\n",
       "    </tr>\n",
       "    <tr>\n",
       "      <th>...</th>\n",
       "      <th>...</th>\n",
       "      <th>...</th>\n",
       "      <th>...</th>\n",
       "      <td>...</td>\n",
       "    </tr>\n",
       "    <tr>\n",
       "      <th rowspan=\"5\" valign=\"top\">3</th>\n",
       "      <th rowspan=\"5\" valign=\"top\">18055.0</th>\n",
       "      <th rowspan=\"5\" valign=\"top\">YELLOW COAT RACK PARIS FASHION</th>\n",
       "      <th>WICKER WREATH LARGE</th>\n",
       "      <td>1</td>\n",
       "    </tr>\n",
       "    <tr>\n",
       "      <th>WOOD 2 DRAWER CABINET WHITE FINISH</th>\n",
       "      <td>3</td>\n",
       "    </tr>\n",
       "    <tr>\n",
       "      <th>WOOD S/3 CABINET ANT WHITE FINISH</th>\n",
       "      <td>2</td>\n",
       "    </tr>\n",
       "    <tr>\n",
       "      <th>WOODEN FRAME ANTIQUE WHITE</th>\n",
       "      <td>4</td>\n",
       "    </tr>\n",
       "    <tr>\n",
       "      <th>WOODEN PICTURE FRAME WHITE FINISH</th>\n",
       "      <td>5</td>\n",
       "    </tr>\n",
       "  </tbody>\n",
       "</table>\n",
       "<p>668262 rows × 1 columns</p>\n",
       "</div>"
      ],
      "text/plain": [
       "                                                                                  0\n",
       "labels id      prod_1                         prod_2                               \n",
       "0      12886.0 12 PENCILS TALL TUBE WOODLAND  3 HOOK PHOTO SHELF ANTIQUE WHITE    1\n",
       "                                              3 TRADITIONAl BISCUIT CUTTERS  SET  1\n",
       "                                              36 DOILIES VINTAGE CHRISTMAS        1\n",
       "                                              6 GIFT TAGS VINTAGE CHRISTMAS       1\n",
       "                                              6 ROCKET BALLOONS                   1\n",
       "...                                                                              ..\n",
       "3      18055.0 YELLOW COAT RACK PARIS FASHION WICKER WREATH LARGE                 1\n",
       "                                              WOOD 2 DRAWER CABINET WHITE FINISH  3\n",
       "                                              WOOD S/3 CABINET ANT WHITE FINISH   2\n",
       "                                              WOODEN FRAME ANTIQUE WHITE          4\n",
       "                                              WOODEN PICTURE FRAME WHITE FINISH   5\n",
       "\n",
       "[668262 rows x 1 columns]"
      ]
     },
     "execution_count": 217,
     "metadata": {},
     "output_type": "execute_result"
    }
   ],
   "source": [
    "df3=pd.DataFrame(cnt)\n",
    "df3"
   ]
  },
  {
   "cell_type": "code",
   "execution_count": 218,
   "id": "49dc5d1b",
   "metadata": {},
   "outputs": [],
   "source": [
    "df4=df3.reset_index().rename(columns={0:'cnt'})"
   ]
  },
  {
   "cell_type": "code",
   "execution_count": 221,
   "id": "2afdec20",
   "metadata": {},
   "outputs": [],
   "source": [
    "rnk=df4.groupby(['id','prod_1','prod_2'])['cnt'].rank(method='min')"
   ]
  },
  {
   "cell_type": "code",
   "execution_count": 225,
   "id": "59579a28",
   "metadata": {},
   "outputs": [
    {
     "data": {
      "text/plain": [
       "{False}"
      ]
     },
     "execution_count": 225,
     "metadata": {},
     "output_type": "execute_result"
    }
   ],
   "source": [
    "set(rnk>1)"
   ]
  },
  {
   "cell_type": "markdown",
   "id": "ad983117",
   "metadata": {},
   "source": [
    "# 군집별 많이 겹친 상품 추출"
   ]
  }
 ],
 "metadata": {
  "kernelspec": {
   "display_name": "Python 3 (ipykernel)",
   "language": "python",
   "name": "python3"
  },
  "language_info": {
   "codemirror_mode": {
    "name": "ipython",
    "version": 3
   },
   "file_extension": ".py",
   "mimetype": "text/x-python",
   "name": "python",
   "nbconvert_exporter": "python",
   "pygments_lexer": "ipython3",
   "version": "3.9.12"
  }
 },
 "nbformat": 4,
 "nbformat_minor": 5
}
