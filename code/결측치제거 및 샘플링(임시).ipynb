{
 "cells": [
  {
   "cell_type": "code",
   "execution_count": 9,
   "id": "608511d3",
   "metadata": {},
   "outputs": [],
   "source": [
    "import pandas as pd\n",
    "import numpy as np\n",
    "import random"
   ]
  },
  {
   "cell_type": "code",
   "execution_count": 3,
   "id": "9ebd3fcf",
   "metadata": {
    "scrolled": false
   },
   "outputs": [],
   "source": [
    "df=pd.read_csv('data/Online Retail.csv')"
   ]
  },
  {
   "cell_type": "code",
   "execution_count": 4,
   "id": "5fdedec0",
   "metadata": {},
   "outputs": [
    {
     "data": {
      "text/plain": [
       "(541909, 8)"
      ]
     },
     "execution_count": 4,
     "metadata": {},
     "output_type": "execute_result"
    }
   ],
   "source": [
    "df.shape"
   ]
  },
  {
   "cell_type": "markdown",
   "id": "97802b62",
   "metadata": {},
   "source": [
    "# 결측치 제거"
   ]
  },
  {
   "cell_type": "code",
   "execution_count": 5,
   "id": "b14872c7",
   "metadata": {},
   "outputs": [
    {
     "data": {
      "text/plain": [
       "InvoiceNo           0\n",
       "StockCode           0\n",
       "Description      1454\n",
       "Quantity            0\n",
       "InvoiceDate         0\n",
       "UnitPrice           0\n",
       "CustomerID     135080\n",
       "Country             0\n",
       "dtype: int64"
      ]
     },
     "execution_count": 5,
     "metadata": {},
     "output_type": "execute_result"
    }
   ],
   "source": [
    "df.isnull().sum()"
   ]
  },
  {
   "cell_type": "code",
   "execution_count": 49,
   "id": "7dcdddf8",
   "metadata": {},
   "outputs": [],
   "source": [
    "df.dropna(axis=0,inplace=True)"
   ]
  },
  {
   "cell_type": "code",
   "execution_count": 50,
   "id": "2e282f54",
   "metadata": {},
   "outputs": [
    {
     "data": {
      "text/plain": [
       "5369       POST\n",
       "395252     POST\n",
       "424904     POST\n",
       "14472      POST\n",
       "19838      POST\n",
       "          ...  \n",
       "7598      10002\n",
       "76571     10002\n",
       "21551     10002\n",
       "31046     10002\n",
       "65899     10002\n",
       "Name: StockCode, Length: 406829, dtype: object"
      ]
     },
     "execution_count": 50,
     "metadata": {},
     "output_type": "execute_result"
    }
   ],
   "source": [
    "df['StockCode'].sort_values(ascending=False)"
   ]
  },
  {
   "cell_type": "code",
   "execution_count": 51,
   "id": "7c1122ce",
   "metadata": {},
   "outputs": [
    {
     "name": "stdout",
     "output_type": "stream",
     "text": [
      "<class 'pandas.core.frame.DataFrame'>\n",
      "Int64Index: 406829 entries, 0 to 541908\n",
      "Data columns (total 8 columns):\n",
      " #   Column       Non-Null Count   Dtype  \n",
      "---  ------       --------------   -----  \n",
      " 0   InvoiceNo    406829 non-null  object \n",
      " 1   StockCode    406829 non-null  object \n",
      " 2   Description  406829 non-null  object \n",
      " 3   Quantity     406829 non-null  int64  \n",
      " 4   InvoiceDate  406829 non-null  object \n",
      " 5   UnitPrice    406829 non-null  float64\n",
      " 6   CustomerID   406829 non-null  float64\n",
      " 7   Country      406829 non-null  object \n",
      "dtypes: float64(2), int64(1), object(5)\n",
      "memory usage: 27.9+ MB\n"
     ]
    }
   ],
   "source": [
    "df.info()"
   ]
  },
  {
   "cell_type": "markdown",
   "id": "53bd4404",
   "metadata": {},
   "source": [
    "# Quantity에 0이하인 데이터가 존재하므로 제거"
   ]
  },
  {
   "cell_type": "code",
   "execution_count": 7,
   "id": "037e6625",
   "metadata": {},
   "outputs": [
    {
     "data": {
      "text/plain": [
       "10624"
      ]
     },
     "execution_count": 7,
     "metadata": {},
     "output_type": "execute_result"
    }
   ],
   "source": [
    "len(df[(df['Quantity']<0)])"
   ]
  },
  {
   "cell_type": "code",
   "execution_count": 52,
   "id": "538856e1",
   "metadata": {},
   "outputs": [
    {
     "data": {
      "text/html": [
       "<div>\n",
       "<style scoped>\n",
       "    .dataframe tbody tr th:only-of-type {\n",
       "        vertical-align: middle;\n",
       "    }\n",
       "\n",
       "    .dataframe tbody tr th {\n",
       "        vertical-align: top;\n",
       "    }\n",
       "\n",
       "    .dataframe thead th {\n",
       "        text-align: right;\n",
       "    }\n",
       "</style>\n",
       "<table border=\"1\" class=\"dataframe\">\n",
       "  <thead>\n",
       "    <tr style=\"text-align: right;\">\n",
       "      <th></th>\n",
       "      <th>InvoiceNo</th>\n",
       "      <th>StockCode</th>\n",
       "      <th>Description</th>\n",
       "      <th>Quantity</th>\n",
       "      <th>InvoiceDate</th>\n",
       "      <th>UnitPrice</th>\n",
       "      <th>CustomerID</th>\n",
       "      <th>Country</th>\n",
       "    </tr>\n",
       "  </thead>\n",
       "  <tbody>\n",
       "    <tr>\n",
       "      <th>0</th>\n",
       "      <td>536365</td>\n",
       "      <td>85123A</td>\n",
       "      <td>WHITE HANGING HEART T-LIGHT HOLDER</td>\n",
       "      <td>6</td>\n",
       "      <td>2010-12-01 8:26</td>\n",
       "      <td>2.55</td>\n",
       "      <td>17850.0</td>\n",
       "      <td>United Kingdom</td>\n",
       "    </tr>\n",
       "    <tr>\n",
       "      <th>1</th>\n",
       "      <td>536365</td>\n",
       "      <td>71053</td>\n",
       "      <td>WHITE METAL LANTERN</td>\n",
       "      <td>6</td>\n",
       "      <td>2010-12-01 8:26</td>\n",
       "      <td>3.39</td>\n",
       "      <td>17850.0</td>\n",
       "      <td>United Kingdom</td>\n",
       "    </tr>\n",
       "    <tr>\n",
       "      <th>2</th>\n",
       "      <td>536365</td>\n",
       "      <td>84406B</td>\n",
       "      <td>CREAM CUPID HEARTS COAT HANGER</td>\n",
       "      <td>8</td>\n",
       "      <td>2010-12-01 8:26</td>\n",
       "      <td>2.75</td>\n",
       "      <td>17850.0</td>\n",
       "      <td>United Kingdom</td>\n",
       "    </tr>\n",
       "    <tr>\n",
       "      <th>3</th>\n",
       "      <td>536365</td>\n",
       "      <td>84029G</td>\n",
       "      <td>KNITTED UNION FLAG HOT WATER BOTTLE</td>\n",
       "      <td>6</td>\n",
       "      <td>2010-12-01 8:26</td>\n",
       "      <td>3.39</td>\n",
       "      <td>17850.0</td>\n",
       "      <td>United Kingdom</td>\n",
       "    </tr>\n",
       "    <tr>\n",
       "      <th>4</th>\n",
       "      <td>536365</td>\n",
       "      <td>84029E</td>\n",
       "      <td>RED WOOLLY HOTTIE WHITE HEART.</td>\n",
       "      <td>6</td>\n",
       "      <td>2010-12-01 8:26</td>\n",
       "      <td>3.39</td>\n",
       "      <td>17850.0</td>\n",
       "      <td>United Kingdom</td>\n",
       "    </tr>\n",
       "    <tr>\n",
       "      <th>...</th>\n",
       "      <td>...</td>\n",
       "      <td>...</td>\n",
       "      <td>...</td>\n",
       "      <td>...</td>\n",
       "      <td>...</td>\n",
       "      <td>...</td>\n",
       "      <td>...</td>\n",
       "      <td>...</td>\n",
       "    </tr>\n",
       "    <tr>\n",
       "      <th>541904</th>\n",
       "      <td>581587</td>\n",
       "      <td>22613</td>\n",
       "      <td>PACK OF 20 SPACEBOY NAPKINS</td>\n",
       "      <td>12</td>\n",
       "      <td>2011-12-09 12:50</td>\n",
       "      <td>0.85</td>\n",
       "      <td>12680.0</td>\n",
       "      <td>France</td>\n",
       "    </tr>\n",
       "    <tr>\n",
       "      <th>541905</th>\n",
       "      <td>581587</td>\n",
       "      <td>22899</td>\n",
       "      <td>CHILDREN'S APRON DOLLY GIRL</td>\n",
       "      <td>6</td>\n",
       "      <td>2011-12-09 12:50</td>\n",
       "      <td>2.10</td>\n",
       "      <td>12680.0</td>\n",
       "      <td>France</td>\n",
       "    </tr>\n",
       "    <tr>\n",
       "      <th>541906</th>\n",
       "      <td>581587</td>\n",
       "      <td>23254</td>\n",
       "      <td>CHILDRENS CUTLERY DOLLY GIRL</td>\n",
       "      <td>4</td>\n",
       "      <td>2011-12-09 12:50</td>\n",
       "      <td>4.15</td>\n",
       "      <td>12680.0</td>\n",
       "      <td>France</td>\n",
       "    </tr>\n",
       "    <tr>\n",
       "      <th>541907</th>\n",
       "      <td>581587</td>\n",
       "      <td>23255</td>\n",
       "      <td>CHILDRENS CUTLERY CIRCUS PARADE</td>\n",
       "      <td>4</td>\n",
       "      <td>2011-12-09 12:50</td>\n",
       "      <td>4.15</td>\n",
       "      <td>12680.0</td>\n",
       "      <td>France</td>\n",
       "    </tr>\n",
       "    <tr>\n",
       "      <th>541908</th>\n",
       "      <td>581587</td>\n",
       "      <td>22138</td>\n",
       "      <td>BAKING SET 9 PIECE RETROSPOT</td>\n",
       "      <td>3</td>\n",
       "      <td>2011-12-09 12:50</td>\n",
       "      <td>4.95</td>\n",
       "      <td>12680.0</td>\n",
       "      <td>France</td>\n",
       "    </tr>\n",
       "  </tbody>\n",
       "</table>\n",
       "<p>397924 rows × 8 columns</p>\n",
       "</div>"
      ],
      "text/plain": [
       "       InvoiceNo StockCode                          Description  Quantity  \\\n",
       "0         536365    85123A   WHITE HANGING HEART T-LIGHT HOLDER         6   \n",
       "1         536365     71053                  WHITE METAL LANTERN         6   \n",
       "2         536365    84406B       CREAM CUPID HEARTS COAT HANGER         8   \n",
       "3         536365    84029G  KNITTED UNION FLAG HOT WATER BOTTLE         6   \n",
       "4         536365    84029E       RED WOOLLY HOTTIE WHITE HEART.         6   \n",
       "...          ...       ...                                  ...       ...   \n",
       "541904    581587     22613          PACK OF 20 SPACEBOY NAPKINS        12   \n",
       "541905    581587     22899         CHILDREN'S APRON DOLLY GIRL          6   \n",
       "541906    581587     23254        CHILDRENS CUTLERY DOLLY GIRL          4   \n",
       "541907    581587     23255      CHILDRENS CUTLERY CIRCUS PARADE         4   \n",
       "541908    581587     22138        BAKING SET 9 PIECE RETROSPOT          3   \n",
       "\n",
       "             InvoiceDate  UnitPrice  CustomerID         Country  \n",
       "0        2010-12-01 8:26       2.55     17850.0  United Kingdom  \n",
       "1        2010-12-01 8:26       3.39     17850.0  United Kingdom  \n",
       "2        2010-12-01 8:26       2.75     17850.0  United Kingdom  \n",
       "3        2010-12-01 8:26       3.39     17850.0  United Kingdom  \n",
       "4        2010-12-01 8:26       3.39     17850.0  United Kingdom  \n",
       "...                  ...        ...         ...             ...  \n",
       "541904  2011-12-09 12:50       0.85     12680.0          France  \n",
       "541905  2011-12-09 12:50       2.10     12680.0          France  \n",
       "541906  2011-12-09 12:50       4.15     12680.0          France  \n",
       "541907  2011-12-09 12:50       4.15     12680.0          France  \n",
       "541908  2011-12-09 12:50       4.95     12680.0          France  \n",
       "\n",
       "[397924 rows x 8 columns]"
      ]
     },
     "execution_count": 52,
     "metadata": {},
     "output_type": "execute_result"
    }
   ],
   "source": [
    "df=df[(df['Quantity']>0)]\n",
    "df"
   ]
  },
  {
   "cell_type": "markdown",
   "id": "cfb8e3be",
   "metadata": {},
   "source": [
    "# Value수 상위 10개 국가만 추출\n",
    "데이터가 1000개 이하의 국가도 존재하므로 데이터가 너무 적은 국가들은 제외"
   ]
  },
  {
   "cell_type": "code",
   "execution_count": 12,
   "id": "7a189497",
   "metadata": {},
   "outputs": [
    {
     "data": {
      "text/plain": [
       "38"
      ]
     },
     "execution_count": 12,
     "metadata": {},
     "output_type": "execute_result"
    }
   ],
   "source": [
    "len(np.unique(df['Country']))"
   ]
  },
  {
   "cell_type": "code",
   "execution_count": 53,
   "id": "d7a1f9ec",
   "metadata": {},
   "outputs": [
    {
     "data": {
      "text/plain": [
       "Country       \n",
       "United Kingdom    354345\n",
       "Germany             9042\n",
       "France              8342\n",
       "EIRE                7238\n",
       "Spain               2485\n",
       "Netherlands         2363\n",
       "Belgium             2031\n",
       "Switzerland         1842\n",
       "Portugal            1462\n",
       "Australia           1185\n",
       "dtype: int64"
      ]
     },
     "execution_count": 53,
     "metadata": {},
     "output_type": "execute_result"
    }
   ],
   "source": [
    "df[['Country']].value_counts()[:10]"
   ]
  },
  {
   "cell_type": "markdown",
   "id": "54faa8dc",
   "metadata": {},
   "source": [
    "### 상위 국가 인덱싱 조건 생성"
   ]
  },
  {
   "cell_type": "code",
   "execution_count": 54,
   "id": "14b2b866",
   "metadata": {
    "scrolled": true
   },
   "outputs": [],
   "source": [
    "top10=df[['Country']].value_counts()[:10].reset_index()['Country']"
   ]
  },
  {
   "cell_type": "code",
   "execution_count": 55,
   "id": "46137231",
   "metadata": {},
   "outputs": [
    {
     "name": "stdout",
     "output_type": "stream",
     "text": [
      "United Kingdom|Germany|France|EIRE|Spain|Netherlands|Belgium|Switzerland|Portugal|Australia\n"
     ]
    }
   ],
   "source": [
    "nation='|'.join(top10.values)\n",
    "print(nation)"
   ]
  },
  {
   "cell_type": "code",
   "execution_count": 56,
   "id": "a22acec0",
   "metadata": {},
   "outputs": [],
   "source": [
    "df2=df[df['Country'].str.contains(nation)]"
   ]
  },
  {
   "cell_type": "markdown",
   "id": "907200c7",
   "metadata": {},
   "source": [
    "United Kingdom,Germany,France,EIRE,Spain,Netherlands,Belgium,Switzerland,Portugal,Australia 국가만 인덱싱"
   ]
  },
  {
   "cell_type": "code",
   "execution_count": 57,
   "id": "67091b67",
   "metadata": {},
   "outputs": [
    {
     "data": {
      "text/plain": [
       "United Kingdom    354345\n",
       "Germany             9042\n",
       "France              8342\n",
       "EIRE                7238\n",
       "Spain               2485\n",
       "Netherlands         2363\n",
       "Belgium             2031\n",
       "Switzerland         1842\n",
       "Portugal            1462\n",
       "Australia           1185\n",
       "Name: Country, dtype: int64"
      ]
     },
     "execution_count": 57,
     "metadata": {},
     "output_type": "execute_result"
    }
   ],
   "source": [
    "df2.Country.value_counts()"
   ]
  },
  {
   "cell_type": "markdown",
   "id": "d8d71247",
   "metadata": {},
   "source": [
    "# 2011년 데이터만 출력"
   ]
  },
  {
   "cell_type": "code",
   "execution_count": 58,
   "id": "e41e72b5",
   "metadata": {},
   "outputs": [],
   "source": [
    "df2011=df2[df2['InvoiceDate'].str.contains('2011')]"
   ]
  },
  {
   "cell_type": "markdown",
   "id": "9c47510e",
   "metadata": {},
   "source": [
    "# 최종 데이터 셋 저장"
   ]
  },
  {
   "cell_type": "code",
   "execution_count": 59,
   "id": "dad741f8",
   "metadata": {},
   "outputs": [],
   "source": [
    "df2011.to_csv('data/Retail_On_top10.csv',index=False)"
   ]
  },
  {
   "cell_type": "code",
   "execution_count": 15,
   "id": "336caa3f",
   "metadata": {},
   "outputs": [
    {
     "data": {
      "text/html": [
       "<div>\n",
       "<style scoped>\n",
       "    .dataframe tbody tr th:only-of-type {\n",
       "        vertical-align: middle;\n",
       "    }\n",
       "\n",
       "    .dataframe tbody tr th {\n",
       "        vertical-align: top;\n",
       "    }\n",
       "\n",
       "    .dataframe thead th {\n",
       "        text-align: right;\n",
       "    }\n",
       "</style>\n",
       "<table border=\"1\" class=\"dataframe\">\n",
       "  <thead>\n",
       "    <tr style=\"text-align: right;\">\n",
       "      <th></th>\n",
       "      <th>InvoiceNo</th>\n",
       "      <th>StockCode</th>\n",
       "      <th>Description</th>\n",
       "      <th>Quantity</th>\n",
       "      <th>InvoiceDate</th>\n",
       "      <th>UnitPrice</th>\n",
       "      <th>CustomerID</th>\n",
       "      <th>Country</th>\n",
       "    </tr>\n",
       "  </thead>\n",
       "  <tbody>\n",
       "    <tr>\n",
       "      <th>0</th>\n",
       "      <td>539993</td>\n",
       "      <td>22386</td>\n",
       "      <td>JUMBO BAG PINK POLKADOT</td>\n",
       "      <td>10</td>\n",
       "      <td>2011-01-04 10:00</td>\n",
       "      <td>1.95</td>\n",
       "      <td>13313.0</td>\n",
       "      <td>United Kingdom</td>\n",
       "    </tr>\n",
       "    <tr>\n",
       "      <th>1</th>\n",
       "      <td>539993</td>\n",
       "      <td>21499</td>\n",
       "      <td>BLUE POLKADOT WRAP</td>\n",
       "      <td>25</td>\n",
       "      <td>2011-01-04 10:00</td>\n",
       "      <td>0.42</td>\n",
       "      <td>13313.0</td>\n",
       "      <td>United Kingdom</td>\n",
       "    </tr>\n",
       "    <tr>\n",
       "      <th>2</th>\n",
       "      <td>539993</td>\n",
       "      <td>21498</td>\n",
       "      <td>RED RETROSPOT WRAP</td>\n",
       "      <td>25</td>\n",
       "      <td>2011-01-04 10:00</td>\n",
       "      <td>0.42</td>\n",
       "      <td>13313.0</td>\n",
       "      <td>United Kingdom</td>\n",
       "    </tr>\n",
       "    <tr>\n",
       "      <th>3</th>\n",
       "      <td>539993</td>\n",
       "      <td>22379</td>\n",
       "      <td>RECYCLING BAG RETROSPOT</td>\n",
       "      <td>5</td>\n",
       "      <td>2011-01-04 10:00</td>\n",
       "      <td>2.10</td>\n",
       "      <td>13313.0</td>\n",
       "      <td>United Kingdom</td>\n",
       "    </tr>\n",
       "    <tr>\n",
       "      <th>4</th>\n",
       "      <td>539993</td>\n",
       "      <td>20718</td>\n",
       "      <td>RED RETROSPOT SHOPPER BAG</td>\n",
       "      <td>10</td>\n",
       "      <td>2011-01-04 10:00</td>\n",
       "      <td>1.25</td>\n",
       "      <td>13313.0</td>\n",
       "      <td>United Kingdom</td>\n",
       "    </tr>\n",
       "    <tr>\n",
       "      <th>...</th>\n",
       "      <td>...</td>\n",
       "      <td>...</td>\n",
       "      <td>...</td>\n",
       "      <td>...</td>\n",
       "      <td>...</td>\n",
       "      <td>...</td>\n",
       "      <td>...</td>\n",
       "      <td>...</td>\n",
       "    </tr>\n",
       "    <tr>\n",
       "      <th>364667</th>\n",
       "      <td>581587</td>\n",
       "      <td>22613</td>\n",
       "      <td>PACK OF 20 SPACEBOY NAPKINS</td>\n",
       "      <td>12</td>\n",
       "      <td>2011-12-09 12:50</td>\n",
       "      <td>0.85</td>\n",
       "      <td>12680.0</td>\n",
       "      <td>France</td>\n",
       "    </tr>\n",
       "    <tr>\n",
       "      <th>364668</th>\n",
       "      <td>581587</td>\n",
       "      <td>22899</td>\n",
       "      <td>CHILDREN'S APRON DOLLY GIRL</td>\n",
       "      <td>6</td>\n",
       "      <td>2011-12-09 12:50</td>\n",
       "      <td>2.10</td>\n",
       "      <td>12680.0</td>\n",
       "      <td>France</td>\n",
       "    </tr>\n",
       "    <tr>\n",
       "      <th>364669</th>\n",
       "      <td>581587</td>\n",
       "      <td>23254</td>\n",
       "      <td>CHILDRENS CUTLERY DOLLY GIRL</td>\n",
       "      <td>4</td>\n",
       "      <td>2011-12-09 12:50</td>\n",
       "      <td>4.15</td>\n",
       "      <td>12680.0</td>\n",
       "      <td>France</td>\n",
       "    </tr>\n",
       "    <tr>\n",
       "      <th>364670</th>\n",
       "      <td>581587</td>\n",
       "      <td>23255</td>\n",
       "      <td>CHILDRENS CUTLERY CIRCUS PARADE</td>\n",
       "      <td>4</td>\n",
       "      <td>2011-12-09 12:50</td>\n",
       "      <td>4.15</td>\n",
       "      <td>12680.0</td>\n",
       "      <td>France</td>\n",
       "    </tr>\n",
       "    <tr>\n",
       "      <th>364671</th>\n",
       "      <td>581587</td>\n",
       "      <td>22138</td>\n",
       "      <td>BAKING SET 9 PIECE RETROSPOT</td>\n",
       "      <td>3</td>\n",
       "      <td>2011-12-09 12:50</td>\n",
       "      <td>4.95</td>\n",
       "      <td>12680.0</td>\n",
       "      <td>France</td>\n",
       "    </tr>\n",
       "  </tbody>\n",
       "</table>\n",
       "<p>364672 rows × 8 columns</p>\n",
       "</div>"
      ],
      "text/plain": [
       "        InvoiceNo StockCode                      Description  Quantity  \\\n",
       "0          539993     22386          JUMBO BAG PINK POLKADOT        10   \n",
       "1          539993     21499               BLUE POLKADOT WRAP        25   \n",
       "2          539993     21498              RED RETROSPOT WRAP         25   \n",
       "3          539993     22379         RECYCLING BAG RETROSPOT          5   \n",
       "4          539993     20718        RED RETROSPOT SHOPPER BAG        10   \n",
       "...           ...       ...                              ...       ...   \n",
       "364667     581587     22613      PACK OF 20 SPACEBOY NAPKINS        12   \n",
       "364668     581587     22899     CHILDREN'S APRON DOLLY GIRL          6   \n",
       "364669     581587     23254    CHILDRENS CUTLERY DOLLY GIRL          4   \n",
       "364670     581587     23255  CHILDRENS CUTLERY CIRCUS PARADE         4   \n",
       "364671     581587     22138    BAKING SET 9 PIECE RETROSPOT          3   \n",
       "\n",
       "             InvoiceDate  UnitPrice  CustomerID         Country  \n",
       "0       2011-01-04 10:00       1.95     13313.0  United Kingdom  \n",
       "1       2011-01-04 10:00       0.42     13313.0  United Kingdom  \n",
       "2       2011-01-04 10:00       0.42     13313.0  United Kingdom  \n",
       "3       2011-01-04 10:00       2.10     13313.0  United Kingdom  \n",
       "4       2011-01-04 10:00       1.25     13313.0  United Kingdom  \n",
       "...                  ...        ...         ...             ...  \n",
       "364667  2011-12-09 12:50       0.85     12680.0          France  \n",
       "364668  2011-12-09 12:50       2.10     12680.0          France  \n",
       "364669  2011-12-09 12:50       4.15     12680.0          France  \n",
       "364670  2011-12-09 12:50       4.15     12680.0          France  \n",
       "364671  2011-12-09 12:50       4.95     12680.0          France  \n",
       "\n",
       "[364672 rows x 8 columns]"
      ]
     },
     "execution_count": 15,
     "metadata": {},
     "output_type": "execute_result"
    }
   ],
   "source": [
    "final=pd.read_csv('data/Retail_On_top10.csv')\n",
    "final"
   ]
  },
  {
   "cell_type": "markdown",
   "id": "fdc7e296",
   "metadata": {},
   "source": [
    "# 데이터 샘플링\n",
    "전체 데이터의 20% 샘플링\n",
    "\n",
    "SQL table import가 오래걸려 샘플링데이터로 우선 분석하기 위함.(추후 최종 분석은 모든 데이터로 분석 실행)"
   ]
  },
  {
   "cell_type": "code",
   "execution_count": 77,
   "id": "dc0469c4",
   "metadata": {},
   "outputs": [],
   "source": [
    "sample=df2011.sample(frac=0.2)"
   ]
  },
  {
   "cell_type": "code",
   "execution_count": 78,
   "id": "e0ae2a8b",
   "metadata": {},
   "outputs": [
    {
     "data": {
      "text/html": [
       "<div>\n",
       "<style scoped>\n",
       "    .dataframe tbody tr th:only-of-type {\n",
       "        vertical-align: middle;\n",
       "    }\n",
       "\n",
       "    .dataframe tbody tr th {\n",
       "        vertical-align: top;\n",
       "    }\n",
       "\n",
       "    .dataframe thead th {\n",
       "        text-align: right;\n",
       "    }\n",
       "</style>\n",
       "<table border=\"1\" class=\"dataframe\">\n",
       "  <thead>\n",
       "    <tr style=\"text-align: right;\">\n",
       "      <th></th>\n",
       "      <th>InvoiceNo</th>\n",
       "      <th>StockCode</th>\n",
       "      <th>Description</th>\n",
       "      <th>Quantity</th>\n",
       "      <th>InvoiceDate</th>\n",
       "      <th>UnitPrice</th>\n",
       "      <th>CustomerID</th>\n",
       "      <th>Country</th>\n",
       "    </tr>\n",
       "  </thead>\n",
       "  <tbody>\n",
       "    <tr>\n",
       "      <th>55887</th>\n",
       "      <td>541005</td>\n",
       "      <td>22382</td>\n",
       "      <td>LUNCH BAG SPACEBOY DESIGN</td>\n",
       "      <td>5</td>\n",
       "      <td>2011-01-13 10:39</td>\n",
       "      <td>1.65</td>\n",
       "      <td>16161.0</td>\n",
       "      <td>United Kingdom</td>\n",
       "    </tr>\n",
       "    <tr>\n",
       "      <th>365318</th>\n",
       "      <td>568703</td>\n",
       "      <td>20718</td>\n",
       "      <td>RED RETROSPOT SHOPPER BAG</td>\n",
       "      <td>10</td>\n",
       "      <td>2011-09-28 15:21</td>\n",
       "      <td>1.25</td>\n",
       "      <td>12748.0</td>\n",
       "      <td>United Kingdom</td>\n",
       "    </tr>\n",
       "    <tr>\n",
       "      <th>483348</th>\n",
       "      <td>577501</td>\n",
       "      <td>22906</td>\n",
       "      <td>12 MESSAGE CARDS WITH ENVELOPES</td>\n",
       "      <td>12</td>\n",
       "      <td>2011-11-20 12:32</td>\n",
       "      <td>1.65</td>\n",
       "      <td>14075.0</td>\n",
       "      <td>United Kingdom</td>\n",
       "    </tr>\n",
       "    <tr>\n",
       "      <th>467576</th>\n",
       "      <td>576356</td>\n",
       "      <td>84978</td>\n",
       "      <td>HANGING HEART JAR T-LIGHT HOLDER</td>\n",
       "      <td>24</td>\n",
       "      <td>2011-11-14 16:30</td>\n",
       "      <td>1.25</td>\n",
       "      <td>15681.0</td>\n",
       "      <td>United Kingdom</td>\n",
       "    </tr>\n",
       "    <tr>\n",
       "      <th>91950</th>\n",
       "      <td>544161</td>\n",
       "      <td>20724</td>\n",
       "      <td>RED RETROSPOT CHARLOTTE BAG</td>\n",
       "      <td>10</td>\n",
       "      <td>2011-02-16 12:59</td>\n",
       "      <td>0.85</td>\n",
       "      <td>16875.0</td>\n",
       "      <td>United Kingdom</td>\n",
       "    </tr>\n",
       "    <tr>\n",
       "      <th>...</th>\n",
       "      <td>...</td>\n",
       "      <td>...</td>\n",
       "      <td>...</td>\n",
       "      <td>...</td>\n",
       "      <td>...</td>\n",
       "      <td>...</td>\n",
       "      <td>...</td>\n",
       "      <td>...</td>\n",
       "    </tr>\n",
       "    <tr>\n",
       "      <th>520710</th>\n",
       "      <td>580296</td>\n",
       "      <td>22326</td>\n",
       "      <td>ROUND SNACK BOXES SET OF4 WOODLAND</td>\n",
       "      <td>3</td>\n",
       "      <td>2011-12-02 13:49</td>\n",
       "      <td>2.95</td>\n",
       "      <td>13780.0</td>\n",
       "      <td>United Kingdom</td>\n",
       "    </tr>\n",
       "    <tr>\n",
       "      <th>191098</th>\n",
       "      <td>553315</td>\n",
       "      <td>20914</td>\n",
       "      <td>SET/5 RED RETROSPOT LID GLASS BOWLS</td>\n",
       "      <td>32</td>\n",
       "      <td>2011-05-16 12:03</td>\n",
       "      <td>2.55</td>\n",
       "      <td>16705.0</td>\n",
       "      <td>United Kingdom</td>\n",
       "    </tr>\n",
       "    <tr>\n",
       "      <th>54062</th>\n",
       "      <td>540849</td>\n",
       "      <td>22960</td>\n",
       "      <td>JAM MAKING SET WITH JARS</td>\n",
       "      <td>6</td>\n",
       "      <td>2011-01-12 9:33</td>\n",
       "      <td>4.25</td>\n",
       "      <td>14270.0</td>\n",
       "      <td>United Kingdom</td>\n",
       "    </tr>\n",
       "    <tr>\n",
       "      <th>382415</th>\n",
       "      <td>569900</td>\n",
       "      <td>22961</td>\n",
       "      <td>JAM MAKING SET PRINTED</td>\n",
       "      <td>12</td>\n",
       "      <td>2011-10-06 16:17</td>\n",
       "      <td>1.45</td>\n",
       "      <td>17651.0</td>\n",
       "      <td>United Kingdom</td>\n",
       "    </tr>\n",
       "    <tr>\n",
       "      <th>284615</th>\n",
       "      <td>561879</td>\n",
       "      <td>23209</td>\n",
       "      <td>LUNCH BAG DOILEY PATTERN</td>\n",
       "      <td>10</td>\n",
       "      <td>2011-07-31 12:43</td>\n",
       "      <td>1.65</td>\n",
       "      <td>13722.0</td>\n",
       "      <td>United Kingdom</td>\n",
       "    </tr>\n",
       "  </tbody>\n",
       "</table>\n",
       "<p>72934 rows × 8 columns</p>\n",
       "</div>"
      ],
      "text/plain": [
       "       InvoiceNo StockCode                          Description  Quantity  \\\n",
       "55887     541005     22382           LUNCH BAG SPACEBOY DESIGN          5   \n",
       "365318    568703     20718            RED RETROSPOT SHOPPER BAG        10   \n",
       "483348    577501     22906      12 MESSAGE CARDS WITH ENVELOPES        12   \n",
       "467576    576356     84978     HANGING HEART JAR T-LIGHT HOLDER        24   \n",
       "91950     544161     20724          RED RETROSPOT CHARLOTTE BAG        10   \n",
       "...          ...       ...                                  ...       ...   \n",
       "520710    580296     22326  ROUND SNACK BOXES SET OF4 WOODLAND          3   \n",
       "191098    553315     20914  SET/5 RED RETROSPOT LID GLASS BOWLS        32   \n",
       "54062     540849     22960             JAM MAKING SET WITH JARS         6   \n",
       "382415    569900     22961               JAM MAKING SET PRINTED        12   \n",
       "284615    561879     23209            LUNCH BAG DOILEY PATTERN         10   \n",
       "\n",
       "             InvoiceDate  UnitPrice  CustomerID         Country  \n",
       "55887   2011-01-13 10:39       1.65     16161.0  United Kingdom  \n",
       "365318  2011-09-28 15:21       1.25     12748.0  United Kingdom  \n",
       "483348  2011-11-20 12:32       1.65     14075.0  United Kingdom  \n",
       "467576  2011-11-14 16:30       1.25     15681.0  United Kingdom  \n",
       "91950   2011-02-16 12:59       0.85     16875.0  United Kingdom  \n",
       "...                  ...        ...         ...             ...  \n",
       "520710  2011-12-02 13:49       2.95     13780.0  United Kingdom  \n",
       "191098  2011-05-16 12:03       2.55     16705.0  United Kingdom  \n",
       "54062    2011-01-12 9:33       4.25     14270.0  United Kingdom  \n",
       "382415  2011-10-06 16:17       1.45     17651.0  United Kingdom  \n",
       "284615  2011-07-31 12:43       1.65     13722.0  United Kingdom  \n",
       "\n",
       "[72934 rows x 8 columns]"
      ]
     },
     "execution_count": 78,
     "metadata": {},
     "output_type": "execute_result"
    }
   ],
   "source": [
    "sample"
   ]
  },
  {
   "cell_type": "markdown",
   "id": "c578f9cc",
   "metadata": {},
   "source": [
    "### 저장"
   ]
  },
  {
   "cell_type": "code",
   "execution_count": 80,
   "id": "75a38c46",
   "metadata": {},
   "outputs": [],
   "source": [
    "sample.to_csv('data/Retail_top10.csv',index=False)"
   ]
  },
  {
   "cell_type": "code",
   "execution_count": 81,
   "id": "0f3349ae",
   "metadata": {},
   "outputs": [],
   "source": [
    "On_r=pd.read_csv('data/Retail_top10.csv')"
   ]
  },
  {
   "cell_type": "code",
   "execution_count": 82,
   "id": "63ce89d7",
   "metadata": {},
   "outputs": [
    {
     "data": {
      "text/html": [
       "<div>\n",
       "<style scoped>\n",
       "    .dataframe tbody tr th:only-of-type {\n",
       "        vertical-align: middle;\n",
       "    }\n",
       "\n",
       "    .dataframe tbody tr th {\n",
       "        vertical-align: top;\n",
       "    }\n",
       "\n",
       "    .dataframe thead th {\n",
       "        text-align: right;\n",
       "    }\n",
       "</style>\n",
       "<table border=\"1\" class=\"dataframe\">\n",
       "  <thead>\n",
       "    <tr style=\"text-align: right;\">\n",
       "      <th></th>\n",
       "      <th>InvoiceNo</th>\n",
       "      <th>StockCode</th>\n",
       "      <th>Description</th>\n",
       "      <th>Quantity</th>\n",
       "      <th>InvoiceDate</th>\n",
       "      <th>UnitPrice</th>\n",
       "      <th>CustomerID</th>\n",
       "      <th>Country</th>\n",
       "    </tr>\n",
       "  </thead>\n",
       "  <tbody>\n",
       "    <tr>\n",
       "      <th>0</th>\n",
       "      <td>541005</td>\n",
       "      <td>22382</td>\n",
       "      <td>LUNCH BAG SPACEBOY DESIGN</td>\n",
       "      <td>5</td>\n",
       "      <td>2011-01-13 10:39</td>\n",
       "      <td>1.65</td>\n",
       "      <td>16161.0</td>\n",
       "      <td>United Kingdom</td>\n",
       "    </tr>\n",
       "    <tr>\n",
       "      <th>1</th>\n",
       "      <td>568703</td>\n",
       "      <td>20718</td>\n",
       "      <td>RED RETROSPOT SHOPPER BAG</td>\n",
       "      <td>10</td>\n",
       "      <td>2011-09-28 15:21</td>\n",
       "      <td>1.25</td>\n",
       "      <td>12748.0</td>\n",
       "      <td>United Kingdom</td>\n",
       "    </tr>\n",
       "    <tr>\n",
       "      <th>2</th>\n",
       "      <td>577501</td>\n",
       "      <td>22906</td>\n",
       "      <td>12 MESSAGE CARDS WITH ENVELOPES</td>\n",
       "      <td>12</td>\n",
       "      <td>2011-11-20 12:32</td>\n",
       "      <td>1.65</td>\n",
       "      <td>14075.0</td>\n",
       "      <td>United Kingdom</td>\n",
       "    </tr>\n",
       "    <tr>\n",
       "      <th>3</th>\n",
       "      <td>576356</td>\n",
       "      <td>84978</td>\n",
       "      <td>HANGING HEART JAR T-LIGHT HOLDER</td>\n",
       "      <td>24</td>\n",
       "      <td>2011-11-14 16:30</td>\n",
       "      <td>1.25</td>\n",
       "      <td>15681.0</td>\n",
       "      <td>United Kingdom</td>\n",
       "    </tr>\n",
       "    <tr>\n",
       "      <th>4</th>\n",
       "      <td>544161</td>\n",
       "      <td>20724</td>\n",
       "      <td>RED RETROSPOT CHARLOTTE BAG</td>\n",
       "      <td>10</td>\n",
       "      <td>2011-02-16 12:59</td>\n",
       "      <td>0.85</td>\n",
       "      <td>16875.0</td>\n",
       "      <td>United Kingdom</td>\n",
       "    </tr>\n",
       "    <tr>\n",
       "      <th>...</th>\n",
       "      <td>...</td>\n",
       "      <td>...</td>\n",
       "      <td>...</td>\n",
       "      <td>...</td>\n",
       "      <td>...</td>\n",
       "      <td>...</td>\n",
       "      <td>...</td>\n",
       "      <td>...</td>\n",
       "    </tr>\n",
       "    <tr>\n",
       "      <th>72929</th>\n",
       "      <td>580296</td>\n",
       "      <td>22326</td>\n",
       "      <td>ROUND SNACK BOXES SET OF4 WOODLAND</td>\n",
       "      <td>3</td>\n",
       "      <td>2011-12-02 13:49</td>\n",
       "      <td>2.95</td>\n",
       "      <td>13780.0</td>\n",
       "      <td>United Kingdom</td>\n",
       "    </tr>\n",
       "    <tr>\n",
       "      <th>72930</th>\n",
       "      <td>553315</td>\n",
       "      <td>20914</td>\n",
       "      <td>SET/5 RED RETROSPOT LID GLASS BOWLS</td>\n",
       "      <td>32</td>\n",
       "      <td>2011-05-16 12:03</td>\n",
       "      <td>2.55</td>\n",
       "      <td>16705.0</td>\n",
       "      <td>United Kingdom</td>\n",
       "    </tr>\n",
       "    <tr>\n",
       "      <th>72931</th>\n",
       "      <td>540849</td>\n",
       "      <td>22960</td>\n",
       "      <td>JAM MAKING SET WITH JARS</td>\n",
       "      <td>6</td>\n",
       "      <td>2011-01-12 9:33</td>\n",
       "      <td>4.25</td>\n",
       "      <td>14270.0</td>\n",
       "      <td>United Kingdom</td>\n",
       "    </tr>\n",
       "    <tr>\n",
       "      <th>72932</th>\n",
       "      <td>569900</td>\n",
       "      <td>22961</td>\n",
       "      <td>JAM MAKING SET PRINTED</td>\n",
       "      <td>12</td>\n",
       "      <td>2011-10-06 16:17</td>\n",
       "      <td>1.45</td>\n",
       "      <td>17651.0</td>\n",
       "      <td>United Kingdom</td>\n",
       "    </tr>\n",
       "    <tr>\n",
       "      <th>72933</th>\n",
       "      <td>561879</td>\n",
       "      <td>23209</td>\n",
       "      <td>LUNCH BAG DOILEY PATTERN</td>\n",
       "      <td>10</td>\n",
       "      <td>2011-07-31 12:43</td>\n",
       "      <td>1.65</td>\n",
       "      <td>13722.0</td>\n",
       "      <td>United Kingdom</td>\n",
       "    </tr>\n",
       "  </tbody>\n",
       "</table>\n",
       "<p>72934 rows × 8 columns</p>\n",
       "</div>"
      ],
      "text/plain": [
       "       InvoiceNo StockCode                          Description  Quantity  \\\n",
       "0         541005     22382           LUNCH BAG SPACEBOY DESIGN          5   \n",
       "1         568703     20718            RED RETROSPOT SHOPPER BAG        10   \n",
       "2         577501     22906      12 MESSAGE CARDS WITH ENVELOPES        12   \n",
       "3         576356     84978     HANGING HEART JAR T-LIGHT HOLDER        24   \n",
       "4         544161     20724          RED RETROSPOT CHARLOTTE BAG        10   \n",
       "...          ...       ...                                  ...       ...   \n",
       "72929     580296     22326  ROUND SNACK BOXES SET OF4 WOODLAND          3   \n",
       "72930     553315     20914  SET/5 RED RETROSPOT LID GLASS BOWLS        32   \n",
       "72931     540849     22960             JAM MAKING SET WITH JARS         6   \n",
       "72932     569900     22961               JAM MAKING SET PRINTED        12   \n",
       "72933     561879     23209            LUNCH BAG DOILEY PATTERN         10   \n",
       "\n",
       "            InvoiceDate  UnitPrice  CustomerID         Country  \n",
       "0      2011-01-13 10:39       1.65     16161.0  United Kingdom  \n",
       "1      2011-09-28 15:21       1.25     12748.0  United Kingdom  \n",
       "2      2011-11-20 12:32       1.65     14075.0  United Kingdom  \n",
       "3      2011-11-14 16:30       1.25     15681.0  United Kingdom  \n",
       "4      2011-02-16 12:59       0.85     16875.0  United Kingdom  \n",
       "...                 ...        ...         ...             ...  \n",
       "72929  2011-12-02 13:49       2.95     13780.0  United Kingdom  \n",
       "72930  2011-05-16 12:03       2.55     16705.0  United Kingdom  \n",
       "72931   2011-01-12 9:33       4.25     14270.0  United Kingdom  \n",
       "72932  2011-10-06 16:17       1.45     17651.0  United Kingdom  \n",
       "72933  2011-07-31 12:43       1.65     13722.0  United Kingdom  \n",
       "\n",
       "[72934 rows x 8 columns]"
      ]
     },
     "execution_count": 82,
     "metadata": {},
     "output_type": "execute_result"
    }
   ],
   "source": [
    "On_r"
   ]
  }
 ],
 "metadata": {
  "kernelspec": {
   "display_name": "Python 3 (ipykernel)",
   "language": "python",
   "name": "python3"
  },
  "language_info": {
   "codemirror_mode": {
    "name": "ipython",
    "version": 3
   },
   "file_extension": ".py",
   "mimetype": "text/x-python",
   "name": "python",
   "nbconvert_exporter": "python",
   "pygments_lexer": "ipython3",
   "version": "3.9.12"
  }
 },
 "nbformat": 4,
 "nbformat_minor": 5
}
